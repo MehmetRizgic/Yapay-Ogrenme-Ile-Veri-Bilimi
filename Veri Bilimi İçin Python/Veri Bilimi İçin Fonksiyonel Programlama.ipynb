{
 "cells": [
  {
   "cell_type": "markdown",
   "id": "a73aca14",
   "metadata": {},
   "source": [
    "# Fonksiyonlar"
   ]
  },
  {
   "cell_type": "markdown",
   "id": "d59ceb10",
   "metadata": {},
   "source": [
    "Fonksiyonlar programlama dillerinde tekrar eden veya fonksiyonel işlevleri toplu bir yapı ile yerine getirme görevi gören çok kullanışlı yapılardır. Örnek olarak şu ana kadar geliştirilen programlarda **print()** fonksiyonunun görevi **içine girilen değerleri** ekrana yazdırdırmasıdır. Bu fonksiyonel yapı Python geliştiricileri tarafından bir defa yazılmış, ve biz program geliştiricileri olarak bu fonkiyonel yapıyı sıfırdan tekrar tekrar yazmak yerine, bu işlevi gören kodu tek bir defa yazarak görevi yerine getirebilmekteyiz. Fonksiyonlar programlama esnasında sadece 1 defa tanımlanmaktadır. İhtiyaç halinde ise fonksiyon ismi yazılarak ve gerekirse argümanları tanımlanarak tüm bu işlemler tek bir defa da yerine getirilmektedirler.\n",
    "\n",
    "Python geliştiricileri tarafından python diline gömülen fonksiyonlara (print(),type() vs.) built-in function denilmektedir. Bizzat bireysel programcılar tarafından gelştirilen fonksiyonlara ise (user-defined functions) denmektedir. Bu fonksiyonların nasıl oluşturulduğunu aşağıda adım adım görelim."
   ]
  },
  {
   "cell_type": "markdown",
   "id": "815cb0bc",
   "metadata": {},
   "source": [
    "## Fonksiyonların Oluşturulması"
   ]
  },
  {
   "cell_type": "markdown",
   "id": "2c9be0fc",
   "metadata": {},
   "source": [
    "Fonksiyon tanımlamanın yapısı şu şekildedir;\n",
    "\n",
    "            def fonksiyon_ismi(argüman1,argüman2.....):\n",
    "                # Fonksiyon bloğu\n",
    "                Yapılacak işlemlerin kod blokları\n",
    "                # Çıktı dönüşünün tanımlanması - İsteğe bağlı"
   ]
  },
  {
   "cell_type": "markdown",
   "id": "0f96847b",
   "metadata": {},
   "source": [
    "Aşağıda yukarı ki yapıya örnek olarak bir toplama fonksiyonu yazalım."
   ]
  },
  {
   "cell_type": "code",
   "execution_count": 1,
   "id": "cf0eccef",
   "metadata": {},
   "outputs": [],
   "source": [
    "def topla(a,b):\n",
    "    \"\"\"\n",
    "        Bu Fonksiyon girilen iki sayiyi toplar\n",
    "    \n",
    "         argumanlar:\n",
    "              a: sayisal deger gir\n",
    "              b: sayisal deger gir\n",
    "     \n",
    "    \"\"\"\n",
    "    print(a + b)"
   ]
  },
  {
   "cell_type": "code",
   "execution_count": 2,
   "id": "6d78b542",
   "metadata": {},
   "outputs": [
    {
     "data": {
      "text/plain": [
       "function"
      ]
     },
     "execution_count": 2,
     "metadata": {},
     "output_type": "execute_result"
    }
   ],
   "source": [
    "type(topla)"
   ]
  },
  {
   "cell_type": "markdown",
   "id": "7e8b012e",
   "metadata": {},
   "source": [
    "Fonksiyonumuz tanımlandı. Ancak bir fonksiyonun sadece tanımlanmış olması, o fonksiyonun işlem yapacağı anlamına gelmemektedir.\n",
    "Fonksiyonlar ile işlem yapabilmemiz için onların python ile çağrılması gerekmektedir. Aşağıda bir fonksiyonun\n",
    "çağrılmasına göz atalım."
   ]
  },
  {
   "cell_type": "code",
   "execution_count": 3,
   "id": "8485e810",
   "metadata": {},
   "outputs": [
    {
     "name": "stdout",
     "output_type": "stream",
     "text": [
      "5\n"
     ]
    }
   ],
   "source": [
    "topla(1,4)"
   ]
  },
  {
   "cell_type": "markdown",
   "id": "2f9f8b02",
   "metadata": {},
   "source": [
    "Çıktıdan da gördüğünüz üzere foksiyon içine gerekli argümanlar verilip fonksiyon çağrıldığında bize 5 değerini dönmüş oldu.\n",
    "Fonskiyon içine tanımlamış olduğumuz print() built-function aracılığı ile toplama işlemi yapıp bunu yazdırması emrini verdik.\n",
    "Ayrıca bu işlemleri genelleştirebilmek adına argümanlar kullandık. Argüman değerleri doğrultusunda hesaplanan çıktıyı aldık."
   ]
  },
  {
   "cell_type": "code",
   "execution_count": 4,
   "id": "c1aa38f2",
   "metadata": {},
   "outputs": [
    {
     "ename": "TypeError",
     "evalue": "topla() missing 1 required positional argument: 'b'",
     "output_type": "error",
     "traceback": [
      "\u001b[1;31m---------------------------------------------------------------------------\u001b[0m",
      "\u001b[1;31mTypeError\u001b[0m                                 Traceback (most recent call last)",
      "\u001b[1;32m~\\AppData\\Local\\Temp/ipykernel_6836/3682980511.py\u001b[0m in \u001b[0;36m<module>\u001b[1;34m\u001b[0m\n\u001b[1;32m----> 1\u001b[1;33m \u001b[0mtopla\u001b[0m\u001b[1;33m(\u001b[0m\u001b[1;36m1\u001b[0m\u001b[1;33m)\u001b[0m\u001b[1;33m\u001b[0m\u001b[1;33m\u001b[0m\u001b[0m\n\u001b[0m",
      "\u001b[1;31mTypeError\u001b[0m: topla() missing 1 required positional argument: 'b'"
     ]
    }
   ],
   "source": [
    "topla(1)"
   ]
  },
  {
   "cell_type": "markdown",
   "id": "65f05c2f",
   "metadata": {},
   "source": [
    "Yukarıda da açıkladığımız üzere fonksiyonun doğru çalışabilmesi için argümanlarının tam olarak girilmesi gereklidir.\n",
    "Aksi takdirde son yaptığımız deneme şeklinde hata alacaksınız. Peki ya argümansız fonksiyon yazdığımız durumlarda bu işlemler nasıl gerçekleşmektedir ? Argüman tanımı yapılmadan tanımlanan fonksiyonları  dikkate aldığımız da ise bu fonksiyonlar sadece\n",
    "kod bloğuna tanımlanmış işlevleri otomatik olarak yerine getiren nesneler haline dönüşmektedirler. Bunu daha açıklayıcı bir örnekle aşağıdaki şekilde irdeliyelim."
   ]
  },
  {
   "cell_type": "code",
   "execution_count": 5,
   "id": "689efd76",
   "metadata": {},
   "outputs": [],
   "source": [
    "def isim_yazdirma():\n",
    "    print(\"Mehmet Rızgıç\")"
   ]
  },
  {
   "cell_type": "code",
   "execution_count": 7,
   "id": "49e3511e",
   "metadata": {},
   "outputs": [
    {
     "name": "stdout",
     "output_type": "stream",
     "text": [
      "Mehmet Rızgıç\n",
      "Mehmet Rızgıç\n"
     ]
    }
   ],
   "source": [
    "isim_yazdirma()\n",
    "isim_yazdirma()"
   ]
  },
  {
   "cell_type": "code",
   "execution_count": 8,
   "id": "3f130171",
   "metadata": {},
   "outputs": [
    {
     "ename": "TypeError",
     "evalue": "isim_yazdirma() takes 0 positional arguments but 1 was given",
     "output_type": "error",
     "traceback": [
      "\u001b[1;31m---------------------------------------------------------------------------\u001b[0m",
      "\u001b[1;31mTypeError\u001b[0m                                 Traceback (most recent call last)",
      "\u001b[1;32m~\\AppData\\Local\\Temp/ipykernel_6836/1084691666.py\u001b[0m in \u001b[0;36m<module>\u001b[1;34m\u001b[0m\n\u001b[1;32m----> 1\u001b[1;33m \u001b[0misim_yazdirma\u001b[0m\u001b[1;33m(\u001b[0m\u001b[1;34m'Erkan Rızgıç'\u001b[0m\u001b[1;33m)\u001b[0m\u001b[1;33m\u001b[0m\u001b[1;33m\u001b[0m\u001b[0m\n\u001b[0m",
      "\u001b[1;31mTypeError\u001b[0m: isim_yazdirma() takes 0 positional arguments but 1 was given"
     ]
    }
   ],
   "source": [
    "isim_yazdirma('Erkan Rızgıç')"
   ]
  },
  {
   "cell_type": "markdown",
   "id": "fce2b89c",
   "metadata": {},
   "source": [
    "Görüldüğü gibi argümansız olarak tanımlanan fonksiyonlar sadece kendi içerisinde tanımlı işlemleri otomatik olarak yerine getiren nesneler haline dönüşmektedir. Bu fonksiyonlara argüman vermek istediğimizde tanımlı yapısının dışında bir işlem\n",
    "yapıyor olmamızdan dolayı tip hatası almaktayız."
   ]
  },
  {
   "cell_type": "markdown",
   "id": "5dbcb5e1",
   "metadata": {},
   "source": [
    "## Argümanlar"
   ]
  },
  {
   "cell_type": "markdown",
   "id": "d477363d",
   "metadata": {},
   "source": [
    "Bir önceki işlemde de gördüğümüz üzere argümansız fonksiyonlar, sadece kendi iç yapılarında tanımlı işelmleri\n",
    "otomatik olarak yerine getiren nesneler idi. Ancak veri bilimi ve iş analitiği dünyasında yapacağımız projeler kapsamında\n",
    "tanımlanacak olan fonksiyonların argümansız olarak tanımlanması, o fonksiyonların bizlere yeterli faydayı\n",
    "sağlayamamalarına neden olmaktadır. Örnek vermek gerekir ise yukarıda yazmış olduğumuz isim yazdırma fonksiyonumuz dahi\n",
    "tek isim dışında bir isim yazdıramamaktadır. İşte buradan yola çıkarak fonksiyon tanımlar iken **Argüman** tanımı\n",
    "gerçekleştirir isek bu fonksiyona istediğimiz ismi yazdırabilme işlevi kazandırabilmekteyiz."
   ]
  },
  {
   "cell_type": "code",
   "execution_count": 9,
   "id": "14740811",
   "metadata": {},
   "outputs": [],
   "source": [
    "def isim_yazdirma(ad='İstediğiniz herhangi bir adı girebilirsiniz'):\n",
    "    print('İsim: ', ad)"
   ]
  },
  {
   "cell_type": "code",
   "execution_count": 10,
   "id": "71e82731",
   "metadata": {},
   "outputs": [
    {
     "name": "stdout",
     "output_type": "stream",
     "text": [
      "İsim:  Mehmet Rızgıç\n"
     ]
    }
   ],
   "source": [
    "isim_yazdirma('Mehmet Rızgıç') # bu ismi arguman olarak tanimladik."
   ]
  },
  {
   "cell_type": "code",
   "execution_count": 11,
   "id": "b103a221",
   "metadata": {},
   "outputs": [
    {
     "name": "stdout",
     "output_type": "stream",
     "text": [
      "İsim:  Erkan Rızgıç\n"
     ]
    }
   ],
   "source": [
    "isim_yazdirma('Erkan Rızgıç') # bu ismi arguman olarak tanimladik."
   ]
  },
  {
   "cell_type": "code",
   "execution_count": 12,
   "id": "0f6cf2fb",
   "metadata": {},
   "outputs": [
    {
     "name": "stdout",
     "output_type": "stream",
     "text": [
      "İsim:  François Chollet\n"
     ]
    }
   ],
   "source": [
    "isim_yazdirma('François Chollet') # bu ismi arguman olarak tanimladik."
   ]
  },
  {
   "cell_type": "markdown",
   "id": "fdd69884",
   "metadata": {},
   "source": [
    "Toplama fonksiyonunu yukarıda ki bilgiler doğrultusunda güncelleyerek yeniden tanımlayalım.\n"
   ]
  },
  {
   "cell_type": "code",
   "execution_count": 13,
   "id": "03cc9b72",
   "metadata": {},
   "outputs": [],
   "source": [
    "def topla(a,b,c,d):\n",
    "    \"\"\"\n",
    "        Bu Fonksiyon girilen argumanlari toplar\n",
    "    \n",
    "         argumanlar:\n",
    "              a: sayisal deger gir\n",
    "              b: sayisal deger gir\n",
    "              c: sayisal deger gir\n",
    "              d: sayisal deger gir\n",
    "     \n",
    "    \"\"\"\n",
    "    print(a + b + c + d)"
   ]
  },
  {
   "cell_type": "code",
   "execution_count": 14,
   "id": "461f7d59",
   "metadata": {},
   "outputs": [
    {
     "name": "stdout",
     "output_type": "stream",
     "text": [
      "16\n"
     ]
    }
   ],
   "source": [
    "topla(1,2,5,8)"
   ]
  },
  {
   "cell_type": "markdown",
   "id": "a8e89152",
   "metadata": {},
   "source": [
    "Fonksiyonumuzun işlevinin ne olduğunun açıklamasını fonksiyona yedirerek tekrar tanımlama işlemi yapalım."
   ]
  },
  {
   "cell_type": "code",
   "execution_count": 17,
   "id": "7e5e000a",
   "metadata": {},
   "outputs": [],
   "source": [
    "def topla(a,b,c,d):\n",
    "    print('*****************************************************************************')\n",
    "    print('Bu fonksiyon girilen parametreler doğrultusunda toplama işlemi yapmaktadır.')\n",
    "    print('*****************************************************************************')\n",
    "    print('Sonuç:', a + b + c + d)"
   ]
  },
  {
   "cell_type": "code",
   "execution_count": 18,
   "id": "8a6aecce",
   "metadata": {},
   "outputs": [
    {
     "name": "stdout",
     "output_type": "stream",
     "text": [
      "*****************************************************************************\n",
      "Bu fonksiyon girilen parametreler doğrultusunda toplama işlemi yapmaktadır.\n",
      "*****************************************************************************\n",
      "Sonuç: 16\n"
     ]
    }
   ],
   "source": [
    "topla(1,2,5,8)"
   ]
  },
  {
   "cell_type": "code",
   "execution_count": 19,
   "id": "245b101b",
   "metadata": {},
   "outputs": [
    {
     "name": "stdout",
     "output_type": "stream",
     "text": [
      "*****************************************************************************\n",
      "Bu fonksiyon girilen parametreler doğrultusunda toplama işlemi yapmaktadır.\n",
      "*****************************************************************************\n",
      "Sonuç: 243\n"
     ]
    }
   ],
   "source": [
    "topla(80,25,50,88)"
   ]
  },
  {
   "cell_type": "code",
   "execution_count": 20,
   "id": "f7fa8117",
   "metadata": {},
   "outputs": [
    {
     "name": "stdout",
     "output_type": "stream",
     "text": [
      "*****************************************************************************\n",
      "Bu fonksiyon girilen parametreler doğrultusunda toplama işlemi yapmaktadır.\n",
      "*****************************************************************************\n",
      "Sonuç: 2448\n"
     ]
    }
   ],
   "source": [
    "topla(808,252,508,880)"
   ]
  },
  {
   "cell_type": "code",
   "execution_count": 21,
   "id": "215ea7fa",
   "metadata": {},
   "outputs": [
    {
     "name": "stdout",
     "output_type": "stream",
     "text": [
      "*****************************************************************************\n",
      "Bu fonksiyon girilen parametreler doğrultusunda toplama işlemi yapmaktadır.\n",
      "*****************************************************************************\n",
      "Sonuç: 163\n"
     ]
    }
   ],
   "source": [
    "topla(10,21,52,80)"
   ]
  },
  {
   "cell_type": "markdown",
   "id": "5fb44bcb",
   "metadata": {},
   "source": [
    "Fonksiyonel programlama kapsamında belli düzeyde maaş alan çalışanların aylık maaşlarına zam yapan bir fonksiyon yazalım."
   ]
  },
  {
   "cell_type": "code",
   "execution_count": 71,
   "id": "543d15f8",
   "metadata": {},
   "outputs": [],
   "source": [
    "maaslar = [100,200,300,400]"
   ]
  },
  {
   "cell_type": "code",
   "execution_count": 74,
   "id": "4f418756",
   "metadata": {},
   "outputs": [],
   "source": [
    "def zam_fonksiyonu(i):\n",
    "    if i < 300:\n",
    "        a=(i*20 / 100 + i)\n",
    "        print(a)\n",
    "    elif i >= 300:\n",
    "        b= (i*10/100+i)\n",
    "        print(b)\n",
    "    else:\n",
    "        print(\"Zam Yapilacak Baska Aralik Bulunmamaktadir\")"
   ]
  },
  {
   "cell_type": "code",
   "execution_count": 76,
   "id": "fb956f96",
   "metadata": {},
   "outputs": [
    {
     "name": "stdout",
     "output_type": "stream",
     "text": [
      "120.0\n",
      "240.0\n",
      "330.0\n",
      "440.0\n"
     ]
    }
   ],
   "source": [
    "for maas in maaslar:\n",
    "    zam_fonksiyonu(maas)"
   ]
  },
  {
   "cell_type": "code",
   "execution_count": 77,
   "id": "a8a78742",
   "metadata": {},
   "outputs": [
    {
     "name": "stdout",
     "output_type": "stream",
     "text": [
      "550.0\n"
     ]
    }
   ],
   "source": [
    "zam_fonksiyonu(500)"
   ]
  },
  {
   "cell_type": "markdown",
   "id": "4b615aab",
   "metadata": {},
   "source": [
    "# Return"
   ]
  },
  {
   "cell_type": "markdown",
   "id": "24ea6723",
   "metadata": {},
   "source": [
    "Return ifadesi bir fonksiyonun işlevini sonlandırmakla birlikte, o fonksiyonun çıktısının bir değer olarak döndürülebilmesini, ayrıca farklı bir analiz veya programda yeni bir girdi veya değer olarak kullanılabilmesini sağlamaktadır. Şu ana kadar gördüğümüz fonskiyonlarda çıktı **print** ifadesi ile ekrana yazdırılıyor idi. Ancak print fonksiyonu bu değeri bize bir çıktı olarak göndermekten başka bir görev yürütmemekte idi. Ancak programlama dünyasında yapılan işlemlerin doğası gereği bir sürü program ve fonksiyon içe içe çalışma zorunluluğu veya ihtiyacı duyulabilmektedir.\n",
    "\n",
    "Bu gibi nedenlerden dolayı bir işlev veya fonksiyon çıktısının diğer işlemlere bir değer veya çıktı olarak atanabilmesini sağlayan ifade **return** ifadesidir. **return** ifadesi işlev sonunda elde edilen değeri **çağrıldığı yere** bir değer olarak dönmesini sağlamaktadır. Böylelikle bir fonksiyon sonucunda elde edilen çıktıyı bir değişken olarak saklayabilir, ayırca projenin devamı esnasında farklı bir işlevde değer olarak görev almasını sağlayabilmekteyiz."
   ]
  },
  {
   "cell_type": "code",
   "execution_count": 22,
   "id": "b060b7c1",
   "metadata": {},
   "outputs": [],
   "source": [
    "def topla(a,b):\n",
    "    print(a + b)"
   ]
  },
  {
   "cell_type": "code",
   "execution_count": 23,
   "id": "3f9dbaba",
   "metadata": {},
   "outputs": [
    {
     "name": "stdout",
     "output_type": "stream",
     "text": [
      "6\n"
     ]
    }
   ],
   "source": [
    "toplama = topla(1,5)"
   ]
  },
  {
   "cell_type": "code",
   "execution_count": 24,
   "id": "37330405",
   "metadata": {},
   "outputs": [
    {
     "ename": "TypeError",
     "evalue": "unsupported operand type(s) for *: 'NoneType' and 'int'",
     "output_type": "error",
     "traceback": [
      "\u001b[1;31m---------------------------------------------------------------------------\u001b[0m",
      "\u001b[1;31mTypeError\u001b[0m                                 Traceback (most recent call last)",
      "\u001b[1;32m~\\AppData\\Local\\Temp/ipykernel_6836/1554353955.py\u001b[0m in \u001b[0;36m<module>\u001b[1;34m\u001b[0m\n\u001b[1;32m----> 1\u001b[1;33m \u001b[0mtoplama\u001b[0m \u001b[1;33m*\u001b[0m \u001b[1;36m3\u001b[0m\u001b[1;33m\u001b[0m\u001b[1;33m\u001b[0m\u001b[0m\n\u001b[0m",
      "\u001b[1;31mTypeError\u001b[0m: unsupported operand type(s) for *: 'NoneType' and 'int'"
     ]
    }
   ],
   "source": [
    "toplama * 3"
   ]
  },
  {
   "cell_type": "markdown",
   "id": "ce64bc59",
   "metadata": {},
   "source": [
    "En basit bir gösterimi baz aldığımız da bile görülmektedir ki çıktısı 6 olan bir fonksiyon değerini dahi\n",
    "basit bir çarpma işleminde kullanamamaktayız. Bunun sebebi ise 6 çıktısını veren fonksiyonun çıktı görevinin\n",
    "sadece ekrana yazdırma görevi ile sınırlı olmasından dolayıdır. Örnek olarak toplama fonksiyonunun çıktısı farklı bir işlem\n",
    "veya fonksiyonda kullanmak istediğimizde **return** ifadesi fonksiyon tanımı içerisinde aşağıdaki şekilde yer almalıdır."
   ]
  },
  {
   "cell_type": "code",
   "execution_count": 25,
   "id": "17d3670a",
   "metadata": {},
   "outputs": [],
   "source": [
    "def topla(a,b):\n",
    "    return a + b"
   ]
  },
  {
   "cell_type": "code",
   "execution_count": 26,
   "id": "d95f80a6",
   "metadata": {},
   "outputs": [
    {
     "data": {
      "text/plain": [
       "6"
      ]
     },
     "execution_count": 26,
     "metadata": {},
     "output_type": "execute_result"
    }
   ],
   "source": [
    "topla(1,5)"
   ]
  },
  {
   "cell_type": "markdown",
   "id": "8da9ab6f",
   "metadata": {},
   "source": [
    "Çıktıdan da görüldüğü üzere **print** fonksiyonu ile aynı işlevi gördüğünü görmekteyiz. Ancak şu an bu değeri farklı bir işlevin girdisi olarak kullanmamız da mümkündür."
   ]
  },
  {
   "cell_type": "code",
   "execution_count": 27,
   "id": "274ba0d8",
   "metadata": {},
   "outputs": [],
   "source": [
    "def carpma(a):\n",
    "    return a * 5"
   ]
  },
  {
   "cell_type": "code",
   "execution_count": 28,
   "id": "30a43591",
   "metadata": {},
   "outputs": [],
   "source": [
    "toplam = topla(1,5)"
   ]
  },
  {
   "cell_type": "code",
   "execution_count": 32,
   "id": "f88e8535",
   "metadata": {},
   "outputs": [
    {
     "data": {
      "text/plain": [
       "30"
      ]
     },
     "execution_count": 32,
     "metadata": {},
     "output_type": "execute_result"
    }
   ],
   "source": [
    "carpma(toplam)"
   ]
  },
  {
   "cell_type": "markdown",
   "id": "319df4a3",
   "metadata": {},
   "source": [
    "Sonuçtan da görüldüğü üzere ilk olarak topla fonksiyonu **return** ifadesi tanımlandı ve ardından topla fonksiyonunun çıktısı\n",
    "bir değer olarak yeni bir değişkene atandı. Son olarak da bu değişken farklı bir işlev/fonksiyon da değer olarak tanımlanabildi."
   ]
  },
  {
   "cell_type": "code",
   "execution_count": 33,
   "id": "8b647af6",
   "metadata": {},
   "outputs": [],
   "source": [
    "sonuc = carpma(toplam)"
   ]
  },
  {
   "cell_type": "code",
   "execution_count": 30,
   "id": "4551e57e",
   "metadata": {},
   "outputs": [],
   "source": [
    "def bolme(b):\n",
    "    return b / 2"
   ]
  },
  {
   "cell_type": "code",
   "execution_count": 34,
   "id": "bc639f7d",
   "metadata": {},
   "outputs": [
    {
     "data": {
      "text/plain": [
       "15.0"
      ]
     },
     "execution_count": 34,
     "metadata": {},
     "output_type": "execute_result"
    }
   ],
   "source": [
    "bolme(sonuc)"
   ]
  },
  {
   "cell_type": "markdown",
   "id": "4ed548ec",
   "metadata": {},
   "source": [
    "Nihai olarak topla işlemi ile başladığımız işlemlerimizi bolme işlemi ile tamamladık. 3 işlem önce girilen değerleri ard arda\n",
    "kullanabilme ve değer olarak girmeyi sağladık."
   ]
  },
  {
   "cell_type": "markdown",
   "id": "a00d938d",
   "metadata": {},
   "source": [
    "## Fonksiyonlarda Argümanların Kullanım Şekilleri"
   ]
  },
  {
   "cell_type": "markdown",
   "id": "9e2ecaa7",
   "metadata": {},
   "source": [
    "Yukarıda fonksiyon oluşturur iken fonksiyona argüman tanımlamanın ne kadar önemli olduğunu ele aldık. \n",
    "Fonksiyonlara argüman tanımlamanın elzem olduğu kadar bazı durumlarda bu argümanları varsayılan değerler olarak tanımlamak da\n",
    "bir o kadar gerekli hale gelebilmektedir. Argümanları varsayılan değer olarak tanımlama işlemi aşağıdaki şekilde \n",
    "yapılmaktadır."
   ]
  },
  {
   "cell_type": "code",
   "execution_count": 35,
   "id": "2d5bbd08",
   "metadata": {},
   "outputs": [],
   "source": [
    "def merhaba(isim):\n",
    "    print('Merhaba', isim)"
   ]
  },
  {
   "cell_type": "code",
   "execution_count": 36,
   "id": "bf3da2d8",
   "metadata": {},
   "outputs": [
    {
     "name": "stdout",
     "output_type": "stream",
     "text": [
      "Merhaba Mehmet\n"
     ]
    }
   ],
   "source": [
    "merhaba('Mehmet')"
   ]
  },
  {
   "cell_type": "code",
   "execution_count": 37,
   "id": "65eac6f5",
   "metadata": {},
   "outputs": [
    {
     "name": "stdout",
     "output_type": "stream",
     "text": [
      "Merhaba Erkan\n"
     ]
    }
   ],
   "source": [
    "merhaba('Erkan')"
   ]
  },
  {
   "cell_type": "code",
   "execution_count": 38,
   "id": "aa767285",
   "metadata": {},
   "outputs": [
    {
     "name": "stdout",
     "output_type": "stream",
     "text": [
      "Merhaba Ahmet\n"
     ]
    }
   ],
   "source": [
    "merhaba('Ahmet')"
   ]
  },
  {
   "cell_type": "code",
   "execution_count": 39,
   "id": "9793a3d8",
   "metadata": {},
   "outputs": [
    {
     "ename": "TypeError",
     "evalue": "merhaba() missing 1 required positional argument: 'isim'",
     "output_type": "error",
     "traceback": [
      "\u001b[1;31m---------------------------------------------------------------------------\u001b[0m",
      "\u001b[1;31mTypeError\u001b[0m                                 Traceback (most recent call last)",
      "\u001b[1;32m~\\AppData\\Local\\Temp/ipykernel_6836/1777241573.py\u001b[0m in \u001b[0;36m<module>\u001b[1;34m\u001b[0m\n\u001b[1;32m----> 1\u001b[1;33m \u001b[0mmerhaba\u001b[0m\u001b[1;33m(\u001b[0m\u001b[1;33m)\u001b[0m\u001b[1;33m\u001b[0m\u001b[1;33m\u001b[0m\u001b[0m\n\u001b[0m",
      "\u001b[1;31mTypeError\u001b[0m: merhaba() missing 1 required positional argument: 'isim'"
     ]
    }
   ],
   "source": [
    "merhaba()"
   ]
  },
  {
   "cell_type": "markdown",
   "id": "d9679a84",
   "metadata": {},
   "source": [
    "Yukarıda ki işlemin tip hatası vermesinin sebebi en başta tanımlandığı şekilde fonksiyona argümanın girilmemesinden dolayıdır.\n",
    "İşte bu sebepten dolayı bir analiz veya programın otomasyonel hale dönüştürülmesi noktasında fonksiyon içi bazı argümanların\n",
    "varsayılan değer olarak atanması gerekmektedir."
   ]
  },
  {
   "cell_type": "code",
   "execution_count": 40,
   "id": "bba0d304",
   "metadata": {},
   "outputs": [],
   "source": [
    "def merhaba(isim=\"Isimsiz\"):\n",
    "    print('Merhaba', isim)"
   ]
  },
  {
   "cell_type": "code",
   "execution_count": 41,
   "id": "e0c4506f",
   "metadata": {},
   "outputs": [
    {
     "name": "stdout",
     "output_type": "stream",
     "text": [
      "Merhaba Isimsiz\n"
     ]
    }
   ],
   "source": [
    "merhaba()"
   ]
  },
  {
   "cell_type": "code",
   "execution_count": 42,
   "id": "8520f14e",
   "metadata": {},
   "outputs": [
    {
     "name": "stdout",
     "output_type": "stream",
     "text": [
      "Merhaba Ali\n"
     ]
    }
   ],
   "source": [
    "merhaba(\"Ali\")"
   ]
  },
  {
   "cell_type": "code",
   "execution_count": 44,
   "id": "b893ec98",
   "metadata": {},
   "outputs": [],
   "source": [
    "def profilbilgisi(isim=\"Ad Yok\", soyad=\"Soyad Yok\",yas=\"Yaş yok\"):\n",
    "    print('Isim:',isim,'\\n',\n",
    "         'Soyad:', soyad,'\\n',\n",
    "         'Yaş:', yas)"
   ]
  },
  {
   "cell_type": "markdown",
   "id": "a1a0dabf",
   "metadata": {},
   "source": [
    "profilbilgisi fonksiyonunda Ad Yok, Soyad Yok ve Yaş yok değerleri ön tanımlı argümanlar olarak tanımlandı.\n",
    "Böylelikle bu fonksiyona herhangi bir argüman tanımlanmaz ise karşılık geldikleri değerlere karşı bu ön tanımlı argümanlar dönecektir."
   ]
  },
  {
   "cell_type": "code",
   "execution_count": 46,
   "id": "d2dd8b97",
   "metadata": {},
   "outputs": [
    {
     "name": "stdout",
     "output_type": "stream",
     "text": [
      "Isim: Mehmet \n",
      " Soyad: Rızgıç \n",
      " Yaş: 25\n"
     ]
    }
   ],
   "source": [
    "profilbilgisi('Mehmet','Rızgıç','25') ## tum argumanlar tanimlandi."
   ]
  },
  {
   "cell_type": "code",
   "execution_count": 48,
   "id": "53d99828",
   "metadata": {},
   "outputs": [
    {
     "name": "stdout",
     "output_type": "stream",
     "text": [
      "Isim: Mehmet \n",
      " Soyad: Rızgıç \n",
      " Yaş: Yaş yok\n"
     ]
    }
   ],
   "source": [
    "profilbilgisi('Mehmet','Rızgıç') ## sadece isim ve soyad bilgisi tanimlandi."
   ]
  },
  {
   "cell_type": "code",
   "execution_count": 51,
   "id": "e2c69df3",
   "metadata": {},
   "outputs": [
    {
     "name": "stdout",
     "output_type": "stream",
     "text": [
      "Isim: Ad Yok \n",
      " Soyad: Soyad Yok \n",
      " Yaş: 25\n"
     ]
    }
   ],
   "source": [
    "profilbilgisi(yas='25') ## sadece yas bilgisi tanimlandi."
   ]
  },
  {
   "cell_type": "markdown",
   "id": "02c2fa95",
   "metadata": {},
   "source": [
    "Fonksiyonlar da argüman tanımlama ile ayrıca ön tanımlı argüman tanımlamayı da ele almış olduk. Bir sonraki başlıkta ise işlem yükü düşük fonksiyonel işlevleri tek bir satırda yapmamıza olanak sağlayan **lambda** fonksiyonunu ele alacağız."
   ]
  },
  {
   "cell_type": "markdown",
   "id": "bc312f43",
   "metadata": {},
   "source": [
    "# Lambda Fonksiyonu"
   ]
  },
  {
   "cell_type": "markdown",
   "id": "04496c7e",
   "metadata": {},
   "source": [
    "Python'da lambda, tek satırlık fonksiyonlardır. Bir ya da daha fazla parametre kabul ederler, ancak tek bir işlem yapabilirler."
   ]
  },
  {
   "cell_type": "markdown",
   "id": "c346d7ed",
   "metadata": {},
   "source": [
    "Aşağıdaki örnekte tanımlanan x fonksiyonu, parametrede belirtilen sayıya 10 ekler ve sonucu döndürür."
   ]
  },
  {
   "cell_type": "code",
   "execution_count": 53,
   "id": "92e26f13",
   "metadata": {},
   "outputs": [
    {
     "name": "stdout",
     "output_type": "stream",
     "text": [
      "15\n"
     ]
    }
   ],
   "source": [
    "x = lambda a : a + 10 # lambda ile  toplama işlemi.\n",
    "print(x(5))"
   ]
  },
  {
   "cell_type": "code",
   "execution_count": 54,
   "id": "3def9c46",
   "metadata": {},
   "outputs": [
    {
     "name": "stdout",
     "output_type": "stream",
     "text": [
      "11\n"
     ]
    }
   ],
   "source": [
    "topla = lambda a, b : a + b\n",
    "print(topla(5, 6))"
   ]
  },
  {
   "cell_type": "code",
   "execution_count": 58,
   "id": "c990dfe8",
   "metadata": {},
   "outputs": [],
   "source": [
    "topla = lambda x,y,z : x + y + z"
   ]
  },
  {
   "cell_type": "code",
   "execution_count": 59,
   "id": "e64ad6e2",
   "metadata": {},
   "outputs": [
    {
     "data": {
      "text/plain": [
       "11"
      ]
     },
     "execution_count": 59,
     "metadata": {},
     "output_type": "execute_result"
    }
   ],
   "source": [
    "topla(8,1,2)"
   ]
  },
  {
   "cell_type": "markdown",
   "id": "8195c312",
   "metadata": {},
   "source": [
    "Lambda fonskiyonu Bir fonksiyon içinde kullanıldığı zaman o fonksiyonu kişiselleştirmemizi sağlar."
   ]
  },
  {
   "cell_type": "code",
   "execution_count": 56,
   "id": "93ad36e6",
   "metadata": {},
   "outputs": [],
   "source": [
    "def carpma(n):\n",
    "    return lambda a : a * n"
   ]
  },
  {
   "cell_type": "code",
   "execution_count": 57,
   "id": "dfa8a062",
   "metadata": {},
   "outputs": [
    {
     "name": "stdout",
     "output_type": "stream",
     "text": [
      "22\n"
     ]
    }
   ],
   "source": [
    "carpan = carpma(2)\n",
    "\n",
    "print(carpan(11))"
   ]
  },
  {
   "cell_type": "code",
   "execution_count": 60,
   "id": "38f88aa3",
   "metadata": {},
   "outputs": [],
   "source": [
    "# Stringi ters çevirme fonksiyonu\n",
    "def tersecevir(a):\n",
    "    return a[::-1]"
   ]
  },
  {
   "cell_type": "code",
   "execution_count": 61,
   "id": "e6ca6b3f",
   "metadata": {},
   "outputs": [
    {
     "data": {
      "text/plain": [
       "'çıgzıR temheM'"
      ]
     },
     "execution_count": 61,
     "metadata": {},
     "output_type": "execute_result"
    }
   ],
   "source": [
    "tersecevir(\"Mehmet Rızgıç\")"
   ]
  },
  {
   "cell_type": "markdown",
   "id": "f909954e",
   "metadata": {},
   "source": [
    "Yukardaki işlemi lambda ile tek satırda yapmamız mümkündür."
   ]
  },
  {
   "cell_type": "code",
   "execution_count": 62,
   "id": "16152576",
   "metadata": {},
   "outputs": [],
   "source": [
    "terscevir =  lambda a : a[::-1]"
   ]
  },
  {
   "cell_type": "code",
   "execution_count": 63,
   "id": "64481d93",
   "metadata": {
    "scrolled": true
   },
   "outputs": [
    {
     "data": {
      "text/plain": [
       "'çıgzıR tmeheM'"
      ]
     },
     "execution_count": 63,
     "metadata": {},
     "output_type": "execute_result"
    }
   ],
   "source": [
    "terscevir(\"Mehemt Rızgıç\")"
   ]
  },
  {
   "cell_type": "code",
   "execution_count": 64,
   "id": "ee4c753c",
   "metadata": {},
   "outputs": [],
   "source": [
    "onlacarp = lambda x : x * 10 "
   ]
  },
  {
   "cell_type": "code",
   "execution_count": 65,
   "id": "8935de7e",
   "metadata": {},
   "outputs": [
    {
     "data": {
      "text/plain": [
       "200"
      ]
     },
     "execution_count": 65,
     "metadata": {},
     "output_type": "execute_result"
    }
   ],
   "source": [
    "onlacarp(20)"
   ]
  }
 ],
 "metadata": {
  "kernelspec": {
   "display_name": "Python 3 (ipykernel)",
   "language": "python",
   "name": "python3"
  },
  "language_info": {
   "codemirror_mode": {
    "name": "ipython",
    "version": 3
   },
   "file_extension": ".py",
   "mimetype": "text/x-python",
   "name": "python",
   "nbconvert_exporter": "python",
   "pygments_lexer": "ipython3",
   "version": "3.9.7"
  }
 },
 "nbformat": 4,
 "nbformat_minor": 5
}
