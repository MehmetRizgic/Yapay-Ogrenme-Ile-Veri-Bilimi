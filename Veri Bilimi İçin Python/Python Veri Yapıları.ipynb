{
 "cells": [
  {
   "cell_type": "markdown",
   "id": "0455afa7",
   "metadata": {},
   "source": [
    "# Python Veri Yapıları"
   ]
  },
  {
   "cell_type": "markdown",
   "id": "32aaa270",
   "metadata": {},
   "source": [
    "### List(Liste) Veri Yapısı"
   ]
  },
  {
   "cell_type": "code",
   "execution_count": 1,
   "id": "08b69926",
   "metadata": {},
   "outputs": [],
   "source": [
    "liste = [10, 20, 40, 50, 80, 160] # sayisal liste tanimlama"
   ]
  },
  {
   "cell_type": "code",
   "execution_count": 2,
   "id": "d159fbb2",
   "metadata": {},
   "outputs": [
    {
     "name": "stdout",
     "output_type": "stream",
     "text": [
      "[10, 20, 40, 50, 80, 160]\n"
     ]
    }
   ],
   "source": [
    "print(liste) ## listeyi donmek"
   ]
  },
  {
   "cell_type": "code",
   "execution_count": 5,
   "id": "e8608506",
   "metadata": {},
   "outputs": [],
   "source": [
    "liste2 = [\"MR\", \"EM\", \"mr\",\"em\"] # kategorik liste tanimlama"
   ]
  },
  {
   "cell_type": "code",
   "execution_count": 4,
   "id": "8f9d2544",
   "metadata": {},
   "outputs": [
    {
     "name": "stdout",
     "output_type": "stream",
     "text": [
      "['MR', 'EM', 'mr', 'em']\n"
     ]
    }
   ],
   "source": [
    "print(liste2)"
   ]
  },
  {
   "cell_type": "code",
   "execution_count": 8,
   "id": "5bba4826",
   "metadata": {},
   "outputs": [],
   "source": [
    "liste3 = [1, \"mr\", 2, \"rm\", 5] ## sayisal ve kategorik liste tanimlama"
   ]
  },
  {
   "cell_type": "code",
   "execution_count": 7,
   "id": "fd8756b1",
   "metadata": {},
   "outputs": [
    {
     "name": "stdout",
     "output_type": "stream",
     "text": [
      "[1, 'mr', 2, 'rm', 5]\n"
     ]
    }
   ],
   "source": [
    "print(liste3)"
   ]
  },
  {
   "cell_type": "markdown",
   "id": "90ca2faf",
   "metadata": {},
   "source": [
    "Listeleri dizi şeklinde tanımlamak da mümkündür."
   ]
  },
  {
   "cell_type": "code",
   "execution_count": 9,
   "id": "65aa690d",
   "metadata": {},
   "outputs": [],
   "source": [
    "sicaklik = [[\"Ocak\", 2], [\"Subat\",3],[\"Mart\",8],[\"Nisan\",16],[\"Mayis\",24],[\"Haziran\",32],\n",
    "            [\"Temmuz\",40],[\"Agustos\",32],[\"Eylu\",24],[\"Ekim\",20],[\"Kasim\",10],[\"Aralik\",5]]"
   ]
  },
  {
   "cell_type": "code",
   "execution_count": 11,
   "id": "918c711c",
   "metadata": {},
   "outputs": [
    {
     "name": "stdout",
     "output_type": "stream",
     "text": [
      "[['Ocak', 2], ['Subat', 3], ['Mart', 8], ['Nisan', 16], ['Mayis', 24], ['Haziran', 32], ['Temmuz', 40], ['Agustos', 32], ['Eylu', 24], ['Ekim', 20], ['Kasim', 10], ['Aralik', 5]]\n"
     ]
    }
   ],
   "source": [
    "print(sicaklik)"
   ]
  },
  {
   "cell_type": "markdown",
   "id": "b1e7775d",
   "metadata": {},
   "source": [
    "### len() metodu"
   ]
  },
  {
   "cell_type": "code",
   "execution_count": 16,
   "id": "23084f78",
   "metadata": {},
   "outputs": [
    {
     "data": {
      "text/plain": [
       "list"
      ]
     },
     "execution_count": 16,
     "metadata": {},
     "output_type": "execute_result"
    }
   ],
   "source": [
    "type(liste)"
   ]
  },
  {
   "cell_type": "code",
   "execution_count": 12,
   "id": "9edc71d6",
   "metadata": {},
   "outputs": [
    {
     "data": {
      "text/plain": [
       "6"
      ]
     },
     "execution_count": 12,
     "metadata": {},
     "output_type": "execute_result"
    }
   ],
   "source": [
    "len(liste)"
   ]
  },
  {
   "cell_type": "code",
   "execution_count": 13,
   "id": "64afecbc",
   "metadata": {},
   "outputs": [
    {
     "data": {
      "text/plain": [
       "4"
      ]
     },
     "execution_count": 13,
     "metadata": {},
     "output_type": "execute_result"
    }
   ],
   "source": [
    "len(liste2)"
   ]
  },
  {
   "cell_type": "code",
   "execution_count": 14,
   "id": "516e1cd4",
   "metadata": {},
   "outputs": [
    {
     "data": {
      "text/plain": [
       "5"
      ]
     },
     "execution_count": 14,
     "metadata": {},
     "output_type": "execute_result"
    }
   ],
   "source": [
    "len(liste3)"
   ]
  },
  {
   "cell_type": "code",
   "execution_count": 15,
   "id": "4caa3e98",
   "metadata": {},
   "outputs": [
    {
     "data": {
      "text/plain": [
       "12"
      ]
     },
     "execution_count": 15,
     "metadata": {},
     "output_type": "execute_result"
    }
   ],
   "source": [
    "len(sicaklik)"
   ]
  },
  {
   "cell_type": "markdown",
   "id": "92e781d5",
   "metadata": {},
   "source": [
    "### Indexing"
   ]
  },
  {
   "cell_type": "code",
   "execution_count": 17,
   "id": "2abf2306",
   "metadata": {},
   "outputs": [
    {
     "data": {
      "text/plain": [
       "10"
      ]
     },
     "execution_count": 17,
     "metadata": {},
     "output_type": "execute_result"
    }
   ],
   "source": [
    "liste[0] ## liste icinde ilk elemani verir. Ayrica pythonda indeksler 0. elemandan baslamaktadir."
   ]
  },
  {
   "cell_type": "code",
   "execution_count": 18,
   "id": "0473940e",
   "metadata": {},
   "outputs": [
    {
     "data": {
      "text/plain": [
       "20"
      ]
     },
     "execution_count": 18,
     "metadata": {},
     "output_type": "execute_result"
    }
   ],
   "source": [
    "liste[1] ## 2. elemani verir"
   ]
  },
  {
   "cell_type": "code",
   "execution_count": 19,
   "id": "07b16e00",
   "metadata": {},
   "outputs": [
    {
     "data": {
      "text/plain": [
       "'em'"
      ]
     },
     "execution_count": 19,
     "metadata": {},
     "output_type": "execute_result"
    }
   ],
   "source": [
    "liste2[3] ## 4. elemani verir"
   ]
  },
  {
   "cell_type": "code",
   "execution_count": 22,
   "id": "0a320a4d",
   "metadata": {},
   "outputs": [
    {
     "data": {
      "text/plain": [
       "['Nisan', 16]"
      ]
     },
     "execution_count": 22,
     "metadata": {},
     "output_type": "execute_result"
    }
   ],
   "source": [
    "sicaklik[3] ## 4. elemani verir"
   ]
  },
  {
   "cell_type": "code",
   "execution_count": 23,
   "id": "c10ce103",
   "metadata": {},
   "outputs": [
    {
     "data": {
      "text/plain": [
       "['Aralik', 5]"
      ]
     },
     "execution_count": 23,
     "metadata": {},
     "output_type": "execute_result"
    }
   ],
   "source": [
    "sicaklik[-1] ## sondan 1. elemani verir"
   ]
  },
  {
   "cell_type": "code",
   "execution_count": 25,
   "id": "9bb0ed88",
   "metadata": {},
   "outputs": [
    {
     "data": {
      "text/plain": [
       "[20, 40]"
      ]
     },
     "execution_count": 25,
     "metadata": {},
     "output_type": "execute_result"
    }
   ],
   "source": [
    "liste[1:3] ## listenin 2. ila 4. gozlemleri arasindaki degerleri tutar. 4. gozlem buna dahil degildir."
   ]
  },
  {
   "cell_type": "code",
   "execution_count": 26,
   "id": "237db239",
   "metadata": {},
   "outputs": [
    {
     "data": {
      "text/plain": [
       "[['Nisan', 16],\n",
       " ['Mayis', 24],\n",
       " ['Haziran', 32],\n",
       " ['Temmuz', 40],\n",
       " ['Agustos', 32]]"
      ]
     },
     "execution_count": 26,
     "metadata": {},
     "output_type": "execute_result"
    }
   ],
   "source": [
    "sicaklik[3:8] ## sicaklik listesinin 4. aydan itibaren 9. aya kadarki degerlerini doner."
   ]
  },
  {
   "cell_type": "code",
   "execution_count": 28,
   "id": "16bcdd91",
   "metadata": {},
   "outputs": [
    {
     "data": {
      "text/plain": [
       "[['Mart', 8], ['Mayis', 24], ['Temmuz', 40], ['Eylu', 24]]"
      ]
     },
     "execution_count": 28,
     "metadata": {},
     "output_type": "execute_result"
    }
   ],
   "source": [
    "sicaklik[2:10:2] ## lsite icinde 2:10 araligindaki degerleri 1 er deger atlayarak tutmasi icin :2 degeri girilir."
   ]
  },
  {
   "cell_type": "code",
   "execution_count": 30,
   "id": "54d591da",
   "metadata": {},
   "outputs": [
    {
     "data": {
      "text/plain": [
       "[40, 50, 80, 160]"
      ]
     },
     "execution_count": 30,
     "metadata": {},
     "output_type": "execute_result"
    }
   ],
   "source": [
    "liste[2:] ## 2 sira numarasinsa sahip gozlemden basliyarak tum lsteyi verir."
   ]
  },
  {
   "cell_type": "code",
   "execution_count": 32,
   "id": "6673c2f5",
   "metadata": {},
   "outputs": [
    {
     "data": {
      "text/plain": [
       "[['Ocak', 2],\n",
       " ['Subat', 3],\n",
       " ['Mart', 8],\n",
       " ['Nisan', 16],\n",
       " ['Mayis', 24],\n",
       " ['Haziran', 32],\n",
       " ['Temmuz', 40],\n",
       " ['Agustos', 32],\n",
       " ['Eylu', 24]]"
      ]
     },
     "execution_count": 32,
     "metadata": {},
     "output_type": "execute_result"
    }
   ],
   "source": [
    "sicaklik[:9] ## 0. indeksten 10 indekse kadar tum degerleri toplu doner"
   ]
  },
  {
   "cell_type": "code",
   "execution_count": 35,
   "id": "74f5c7c3",
   "metadata": {},
   "outputs": [
    {
     "data": {
      "text/plain": [
       "16"
      ]
     },
     "execution_count": 35,
     "metadata": {},
     "output_type": "execute_result"
    }
   ],
   "source": [
    "sicaklik[3][1] ## 4. ay olan nisanin ayinin sicaklik degeri asagidaki gibidir."
   ]
  },
  {
   "cell_type": "code",
   "execution_count": 36,
   "id": "357cc20c",
   "metadata": {},
   "outputs": [
    {
     "data": {
      "text/plain": [
       "'Agustos'"
      ]
     },
     "execution_count": 36,
     "metadata": {},
     "output_type": "execute_result"
    }
   ],
   "source": [
    "sicaklik[7][0] ## 7. indekste ki ayin ismi soyledir"
   ]
  },
  {
   "cell_type": "markdown",
   "id": "0c41279f",
   "metadata": {},
   "source": [
    "Indeksleme islemleri ile atama yapma"
   ]
  },
  {
   "cell_type": "code",
   "execution_count": 37,
   "id": "7735f65f",
   "metadata": {},
   "outputs": [],
   "source": [
    "(ay, sicaklik) = (sicaklik[3][0], sicaklik[3][1])"
   ]
  },
  {
   "cell_type": "code",
   "execution_count": 39,
   "id": "c0953f2d",
   "metadata": {
    "scrolled": true
   },
   "outputs": [
    {
     "name": "stdout",
     "output_type": "stream",
     "text": [
      "Nisan ayındaki sıcaklık 16 derecedir.\n"
     ]
    }
   ],
   "source": [
    "print(ay, \"ayındaki sıcaklık\" ,sicaklik, \"derecedir.\")"
   ]
  },
  {
   "cell_type": "markdown",
   "id": "6ef2773b",
   "metadata": {},
   "source": [
    "### Eleman Ekleme ve Cikarma"
   ]
  },
  {
   "cell_type": "code",
   "execution_count": 40,
   "id": "5de3aa4f",
   "metadata": {},
   "outputs": [],
   "source": [
    "liste[0] = 100 ## 0. indekste 10 degeri 100 degeri ile degistirildi."
   ]
  },
  {
   "cell_type": "code",
   "execution_count": 41,
   "id": "c4472572",
   "metadata": {},
   "outputs": [
    {
     "data": {
      "text/plain": [
       "[100, 20, 40, 50, 80, 160]"
      ]
     },
     "execution_count": 41,
     "metadata": {},
     "output_type": "execute_result"
    }
   ],
   "source": [
    "liste"
   ]
  },
  {
   "cell_type": "code",
   "execution_count": 42,
   "id": "f60b62e0",
   "metadata": {},
   "outputs": [],
   "source": [
    "liste[1] = \"yirmi\""
   ]
  },
  {
   "cell_type": "code",
   "execution_count": 43,
   "id": "310a5201",
   "metadata": {},
   "outputs": [
    {
     "data": {
      "text/plain": [
       "[100, 'yirmi', 40, 50, 80, 160]"
      ]
     },
     "execution_count": 43,
     "metadata": {},
     "output_type": "execute_result"
    }
   ],
   "source": [
    "liste"
   ]
  },
  {
   "cell_type": "markdown",
   "id": "1db6a8c2",
   "metadata": {},
   "source": [
    "Listedeki herhangi bir gozlemin indeks degerini bulmak icin index() metodu kullanilir."
   ]
  },
  {
   "cell_type": "code",
   "execution_count": 49,
   "id": "1fac0ca6",
   "metadata": {},
   "outputs": [
    {
     "data": {
      "text/plain": [
       "1"
      ]
     },
     "execution_count": 49,
     "metadata": {},
     "output_type": "execute_result"
    }
   ],
   "source": [
    "liste.index(\"yirmi\") ## yirmi gozlemi 1. indekste 2. siradadir."
   ]
  },
  {
   "cell_type": "code",
   "execution_count": 50,
   "id": "4525d688",
   "metadata": {},
   "outputs": [
    {
     "data": {
      "text/plain": [
       "2"
      ]
     },
     "execution_count": 50,
     "metadata": {},
     "output_type": "execute_result"
    }
   ],
   "source": [
    "liste.index(40)"
   ]
  },
  {
   "cell_type": "markdown",
   "id": "881281d9",
   "metadata": {},
   "source": [
    "### .pop()"
   ]
  },
  {
   "cell_type": "code",
   "execution_count": 51,
   "id": "8583a45a",
   "metadata": {},
   "outputs": [
    {
     "data": {
      "text/plain": [
       "[100, 'yirmi', 40, 50, 80, 160]"
      ]
     },
     "execution_count": 51,
     "metadata": {},
     "output_type": "execute_result"
    }
   ],
   "source": [
    "liste"
   ]
  },
  {
   "cell_type": "code",
   "execution_count": 52,
   "id": "7f5c8044",
   "metadata": {},
   "outputs": [],
   "source": [
    "silinen_deger = liste.pop(1) ## 1.  indeksteki 2. siradaki degeri siler"
   ]
  },
  {
   "cell_type": "code",
   "execution_count": 53,
   "id": "bcc6bfd6",
   "metadata": {},
   "outputs": [
    {
     "data": {
      "text/plain": [
       "'yirmi'"
      ]
     },
     "execution_count": 53,
     "metadata": {},
     "output_type": "execute_result"
    }
   ],
   "source": [
    "silinen_deger"
   ]
  },
  {
   "cell_type": "code",
   "execution_count": 54,
   "id": "597543e7",
   "metadata": {
    "scrolled": true
   },
   "outputs": [
    {
     "data": {
      "text/plain": [
       "[100, 40, 50, 80, 160]"
      ]
     },
     "execution_count": 54,
     "metadata": {},
     "output_type": "execute_result"
    }
   ],
   "source": [
    "liste #3 goruldugu uzere yirmi gozlemi silinmistir."
   ]
  },
  {
   "cell_type": "markdown",
   "id": "ed620df0",
   "metadata": {},
   "source": [
    "### . count()"
   ]
  },
  {
   "cell_type": "code",
   "execution_count": 82,
   "id": "128747aa",
   "metadata": {},
   "outputs": [],
   "source": [
    "sayilar = [1,2,4,5,4,2,1,5,1,8,10,5,16,24] ## yeni liste"
   ]
  },
  {
   "cell_type": "code",
   "execution_count": 58,
   "id": "3db9fc4b",
   "metadata": {},
   "outputs": [
    {
     "data": {
      "text/plain": [
       "1"
      ]
     },
     "execution_count": 58,
     "metadata": {},
     "output_type": "execute_result"
    }
   ],
   "source": [
    "sayilar.count(8)"
   ]
  },
  {
   "cell_type": "code",
   "execution_count": 59,
   "id": "3317ec79",
   "metadata": {
    "scrolled": true
   },
   "outputs": [
    {
     "data": {
      "text/plain": [
       "3"
      ]
     },
     "execution_count": 59,
     "metadata": {},
     "output_type": "execute_result"
    }
   ],
   "source": [
    "sayilar.count(1)"
   ]
  },
  {
   "cell_type": "code",
   "execution_count": 60,
   "id": "a296fc35",
   "metadata": {},
   "outputs": [
    {
     "data": {
      "text/plain": [
       "2"
      ]
     },
     "execution_count": 60,
     "metadata": {},
     "output_type": "execute_result"
    }
   ],
   "source": [
    "sayilar.count(2)"
   ]
  },
  {
   "cell_type": "code",
   "execution_count": 61,
   "id": "74e7b720",
   "metadata": {},
   "outputs": [
    {
     "data": {
      "text/plain": [
       "3"
      ]
     },
     "execution_count": 61,
     "metadata": {},
     "output_type": "execute_result"
    }
   ],
   "source": [
    "sayilar.count(5)"
   ]
  },
  {
   "cell_type": "markdown",
   "id": "4f485efc",
   "metadata": {},
   "source": [
    "### .append()"
   ]
  },
  {
   "cell_type": "code",
   "execution_count": 63,
   "id": "2d839d46",
   "metadata": {},
   "outputs": [],
   "source": [
    "sayilar.append(56) ## liste sonuna sirali olacak sekilde 56 degeri atandi"
   ]
  },
  {
   "cell_type": "code",
   "execution_count": 64,
   "id": "044930d4",
   "metadata": {},
   "outputs": [
    {
     "data": {
      "text/plain": [
       "[1, 2, 4, 5, 4, 5, 1, 5, 1, 8, 10, 5, 16, 24, 56]"
      ]
     },
     "execution_count": 64,
     "metadata": {},
     "output_type": "execute_result"
    }
   ],
   "source": [
    "sayilar"
   ]
  },
  {
   "cell_type": "code",
   "execution_count": 65,
   "id": "378599b0",
   "metadata": {},
   "outputs": [],
   "source": [
    "sayilar.append(32) ## 32  degerini listeye ekledik"
   ]
  },
  {
   "cell_type": "code",
   "execution_count": 69,
   "id": "5848eab5",
   "metadata": {},
   "outputs": [
    {
     "data": {
      "text/plain": [
       "56"
      ]
     },
     "execution_count": 69,
     "metadata": {},
     "output_type": "execute_result"
    }
   ],
   "source": [
    "sayilar.pop(-1) ## listeden en son elemani sildik"
   ]
  },
  {
   "cell_type": "code",
   "execution_count": 68,
   "id": "520e7d84",
   "metadata": {},
   "outputs": [
    {
     "data": {
      "text/plain": [
       "[1, 2, 4, 5, 4, 5, 1, 5, 1, 8, 10, 5, 16, 24, 56]"
      ]
     },
     "execution_count": 68,
     "metadata": {},
     "output_type": "execute_result"
    }
   ],
   "source": [
    "sayilar"
   ]
  },
  {
   "cell_type": "markdown",
   "id": "3e6a4f05",
   "metadata": {},
   "source": [
    "Listelere bir diger kolay ekleme yapma yolu"
   ]
  },
  {
   "cell_type": "code",
   "execution_count": 78,
   "id": "cd87b542",
   "metadata": {},
   "outputs": [],
   "source": [
    "liste = [10, 20, 40, 50, 80, 16,25,8,90]"
   ]
  },
  {
   "cell_type": "code",
   "execution_count": 79,
   "id": "58d42e0d",
   "metadata": {},
   "outputs": [],
   "source": [
    "sayilar = sayilar + liste## sirali bir sekilde diger liste ootomatik eklenmektedir."
   ]
  },
  {
   "cell_type": "code",
   "execution_count": 80,
   "id": "6b5c9667",
   "metadata": {
    "collapsed": true
   },
   "outputs": [
    {
     "data": {
      "text/plain": [
       "[1,\n",
       " 2,\n",
       " 4,\n",
       " 5,\n",
       " 4,\n",
       " 5,\n",
       " 1,\n",
       " 5,\n",
       " 1,\n",
       " 8,\n",
       " 10,\n",
       " 5,\n",
       " 16,\n",
       " 24,\n",
       " 10,\n",
       " 20,\n",
       " 40,\n",
       " 50,\n",
       " 80,\n",
       " 160,\n",
       " 'MR',\n",
       " 'EM',\n",
       " 'mr',\n",
       " 'em',\n",
       " 10,\n",
       " 20,\n",
       " 40,\n",
       " 50,\n",
       " 80,\n",
       " 16,\n",
       " 25,\n",
       " 8,\n",
       " 90]"
      ]
     },
     "execution_count": 80,
     "metadata": {},
     "output_type": "execute_result"
    }
   ],
   "source": [
    "sayilar "
   ]
  },
  {
   "cell_type": "markdown",
   "id": "3e81062a",
   "metadata": {},
   "source": [
    "Listelere ekleme yapmanin bir diger yolu da .extend() metodunu kullanmaktir."
   ]
  },
  {
   "cell_type": "code",
   "execution_count": 73,
   "id": "92482ed0",
   "metadata": {},
   "outputs": [],
   "source": [
    "sayilar.extend(liste2) ## "
   ]
  },
  {
   "cell_type": "code",
   "execution_count": 75,
   "id": "f06b83f2",
   "metadata": {},
   "outputs": [
    {
     "name": "stdout",
     "output_type": "stream",
     "text": [
      "[1, 2, 4, 5, 4, 5, 1, 5, 1, 8, 10, 5, 16, 24, 10, 20, 40, 50, 80, 160, 'MR', 'EM', 'mr', 'em']\n"
     ]
    }
   ],
   "source": [
    "print(sayilar)"
   ]
  },
  {
   "cell_type": "markdown",
   "id": "6c18216a",
   "metadata": {},
   "source": [
    "### .sorted()"
   ]
  },
  {
   "cell_type": "code",
   "execution_count": 83,
   "id": "beb0d615",
   "metadata": {},
   "outputs": [
    {
     "data": {
      "text/plain": [
       "[1, 1, 1, 2, 2, 4, 4, 5, 5, 5, 8, 10, 16, 24]"
      ]
     },
     "execution_count": 83,
     "metadata": {},
     "output_type": "execute_result"
    }
   ],
   "source": [
    "sorted(sayilar)"
   ]
  },
  {
   "cell_type": "markdown",
   "id": "8c8e5823",
   "metadata": {},
   "source": [
    "Bir listenin elemanlarinin tersten yazdirmak icin .reverse() metodu kullanilir."
   ]
  },
  {
   "cell_type": "code",
   "execution_count": 84,
   "id": "a3b24632",
   "metadata": {},
   "outputs": [],
   "source": [
    "sayilar.reverse()"
   ]
  },
  {
   "cell_type": "code",
   "execution_count": 85,
   "id": "256dafd6",
   "metadata": {},
   "outputs": [
    {
     "data": {
      "text/plain": [
       "[24, 16, 5, 10, 8, 1, 5, 1, 2, 4, 5, 4, 2, 1]"
      ]
     },
     "execution_count": 85,
     "metadata": {},
     "output_type": "execute_result"
    }
   ],
   "source": [
    "sayilar"
   ]
  },
  {
   "cell_type": "markdown",
   "id": "7ad61d17",
   "metadata": {},
   "source": [
    "# Tuple(Demet) Veri Yapısı"
   ]
  },
  {
   "cell_type": "code",
   "execution_count": 86,
   "id": "30f7228c",
   "metadata": {},
   "outputs": [],
   "source": [
    "demet = (2.15, 2.25,1,2,5,8,16.8)"
   ]
  },
  {
   "cell_type": "code",
   "execution_count": 87,
   "id": "52fb6f11",
   "metadata": {},
   "outputs": [
    {
     "data": {
      "text/plain": [
       "(2.15, 2.25, 1, 2, 5, 8, 16.8)"
      ]
     },
     "execution_count": 87,
     "metadata": {},
     "output_type": "execute_result"
    }
   ],
   "source": [
    "demet"
   ]
  },
  {
   "cell_type": "code",
   "execution_count": 88,
   "id": "fef9170b",
   "metadata": {},
   "outputs": [],
   "source": [
    "sehirler = (\"Ankara\",\"Mersin\",\"Bursa\",\"Konya\",\"Istanbul\")"
   ]
  },
  {
   "cell_type": "code",
   "execution_count": 89,
   "id": "422dc675",
   "metadata": {},
   "outputs": [
    {
     "data": {
      "text/plain": [
       "('Ankara', 'Mersin', 'Bursa', 'Konya', 'Istanbul')"
      ]
     },
     "execution_count": 89,
     "metadata": {},
     "output_type": "execute_result"
    }
   ],
   "source": [
    "sehirler"
   ]
  },
  {
   "cell_type": "code",
   "execution_count": 90,
   "id": "04d2fa8d",
   "metadata": {},
   "outputs": [],
   "source": [
    "sicaklik = (\"Nisan\",20, \"Mayis\",24,\"Agustos\",32)"
   ]
  },
  {
   "cell_type": "code",
   "execution_count": 91,
   "id": "5bf8503c",
   "metadata": {},
   "outputs": [
    {
     "data": {
      "text/plain": [
       "('Nisan', 20, 'Mayis', 24, 'Agustos', 32)"
      ]
     },
     "execution_count": 91,
     "metadata": {},
     "output_type": "execute_result"
    }
   ],
   "source": [
    "sicaklik"
   ]
  },
  {
   "cell_type": "markdown",
   "id": "fd9cadd0",
   "metadata": {},
   "source": [
    "## Indeksleme İşlemleri"
   ]
  },
  {
   "cell_type": "code",
   "execution_count": 92,
   "id": "0246f30f",
   "metadata": {},
   "outputs": [
    {
     "data": {
      "text/plain": [
       "'Istanbul'"
      ]
     },
     "execution_count": 92,
     "metadata": {},
     "output_type": "execute_result"
    }
   ],
   "source": [
    "sehirler[-1]"
   ]
  },
  {
   "cell_type": "code",
   "execution_count": 94,
   "id": "aea30d40",
   "metadata": {},
   "outputs": [
    {
     "data": {
      "text/plain": [
       "('Mersin', 'Bursa', 'Konya', 'Istanbul')"
      ]
     },
     "execution_count": 94,
     "metadata": {},
     "output_type": "execute_result"
    }
   ],
   "source": [
    "sehirler[1:5]"
   ]
  },
  {
   "cell_type": "code",
   "execution_count": 95,
   "id": "5287fe5b",
   "metadata": {},
   "outputs": [
    {
     "data": {
      "text/plain": [
       "('Ankara', 'Mersin', 'Bursa', 'Konya')"
      ]
     },
     "execution_count": 95,
     "metadata": {},
     "output_type": "execute_result"
    }
   ],
   "source": [
    "sehirler[:4]"
   ]
  },
  {
   "cell_type": "markdown",
   "id": "a85c10b7",
   "metadata": {},
   "source": [
    "Tupleya ekleme yapalim"
   ]
  },
  {
   "cell_type": "code",
   "execution_count": 97,
   "id": "5aa60472",
   "metadata": {},
   "outputs": [
    {
     "ename": "NameError",
     "evalue": "name 'sehiler' is not defined",
     "output_type": "error",
     "traceback": [
      "\u001b[1;31m---------------------------------------------------------------------------\u001b[0m",
      "\u001b[1;31mNameError\u001b[0m                                 Traceback (most recent call last)",
      "\u001b[1;32m~\\AppData\\Local\\Temp/ipykernel_18080/124499881.py\u001b[0m in \u001b[0;36m<module>\u001b[1;34m\u001b[0m\n\u001b[1;32m----> 1\u001b[1;33m \u001b[0msehiler\u001b[0m\u001b[1;33m[\u001b[0m\u001b[1;36m4\u001b[0m\u001b[1;33m]\u001b[0m \u001b[1;33m=\u001b[0m \u001b[1;34m\"Kocaeli\"\u001b[0m \u001b[1;31m## tuplelarda degisiklik yapilamamaktadir.\u001b[0m\u001b[1;33m\u001b[0m\u001b[1;33m\u001b[0m\u001b[0m\n\u001b[0m",
      "\u001b[1;31mNameError\u001b[0m: name 'sehiler' is not defined"
     ]
    }
   ],
   "source": [
    "sehiler[4] = \"Kocaeli\" ## tuplelarda degisiklik yapilamamaktadir."
   ]
  },
  {
   "cell_type": "code",
   "execution_count": 98,
   "id": "f1cb0316",
   "metadata": {},
   "outputs": [],
   "source": [
    "demet = (2.25,2.18)"
   ]
  },
  {
   "cell_type": "code",
   "execution_count": 99,
   "id": "8cb38abf",
   "metadata": {},
   "outputs": [],
   "source": [
    "demet1, demet2 = demet"
   ]
  },
  {
   "cell_type": "code",
   "execution_count": 100,
   "id": "1639a501",
   "metadata": {},
   "outputs": [
    {
     "data": {
      "text/plain": [
       "(2.25, 2.18)"
      ]
     },
     "execution_count": 100,
     "metadata": {},
     "output_type": "execute_result"
    }
   ],
   "source": [
    "demet"
   ]
  },
  {
   "cell_type": "code",
   "execution_count": 101,
   "id": "678a56d7",
   "metadata": {},
   "outputs": [
    {
     "data": {
      "text/plain": [
       "2.25"
      ]
     },
     "execution_count": 101,
     "metadata": {},
     "output_type": "execute_result"
    }
   ],
   "source": [
    "demet1"
   ]
  },
  {
   "cell_type": "code",
   "execution_count": 102,
   "id": "6465c3fc",
   "metadata": {},
   "outputs": [
    {
     "data": {
      "text/plain": [
       "2.18"
      ]
     },
     "execution_count": 102,
     "metadata": {},
     "output_type": "execute_result"
    }
   ],
   "source": [
    "demet2"
   ]
  },
  {
   "cell_type": "markdown",
   "id": "0824786d",
   "metadata": {},
   "source": [
    "# Dict(Sözlük) Veri Yapıları"
   ]
  },
  {
   "cell_type": "code",
   "execution_count": 103,
   "id": "e995f58a",
   "metadata": {},
   "outputs": [],
   "source": [
    "sehirler = {\"Istanbul\":34, \n",
    "           \"Bursa\":16,\n",
    "           \"Ankara\":6,\n",
    "           \"Edirne\":22,\n",
    "           \"Trabzon\":61}"
   ]
  },
  {
   "cell_type": "code",
   "execution_count": 104,
   "id": "33c48bea",
   "metadata": {},
   "outputs": [
    {
     "data": {
      "text/plain": [
       "{'Istanbul': 34, 'Bursa': 16, 'Ankara': 6, 'Edirne': 22, 'Trabzon': 61}"
      ]
     },
     "execution_count": 104,
     "metadata": {},
     "output_type": "execute_result"
    }
   ],
   "source": [
    "sehirler"
   ]
  },
  {
   "cell_type": "markdown",
   "id": "feba9ca3",
   "metadata": {},
   "source": [
    "Sozluk icinde  sorgulama sekilleri\n"
   ]
  },
  {
   "cell_type": "code",
   "execution_count": 105,
   "id": "f14c04ce",
   "metadata": {},
   "outputs": [
    {
     "data": {
      "text/plain": [
       "True"
      ]
     },
     "execution_count": 105,
     "metadata": {},
     "output_type": "execute_result"
    }
   ],
   "source": [
    "\"Istanbul\" in sehirler"
   ]
  },
  {
   "cell_type": "code",
   "execution_count": 106,
   "id": "5eef27c5",
   "metadata": {},
   "outputs": [
    {
     "data": {
      "text/plain": [
       "False"
      ]
     },
     "execution_count": 106,
     "metadata": {},
     "output_type": "execute_result"
    }
   ],
   "source": [
    "\"Antalya\" in sehirler"
   ]
  },
  {
   "cell_type": "markdown",
   "id": "7ec65010",
   "metadata": {},
   "source": [
    "Sozlukte bir degere ulasmak istiyorsak o degerin anahtarinin yazilmasi gerekir\n"
   ]
  },
  {
   "cell_type": "code",
   "execution_count": 107,
   "id": "5129f996",
   "metadata": {},
   "outputs": [
    {
     "data": {
      "text/plain": [
       "34"
      ]
     },
     "execution_count": 107,
     "metadata": {},
     "output_type": "execute_result"
    }
   ],
   "source": [
    "sehirler[\"Istanbul\"]"
   ]
  },
  {
   "cell_type": "code",
   "execution_count": 108,
   "id": "97b7f480",
   "metadata": {},
   "outputs": [
    {
     "data": {
      "text/plain": [
       "16"
      ]
     },
     "execution_count": 108,
     "metadata": {},
     "output_type": "execute_result"
    }
   ],
   "source": [
    "sehirler[\"Bursa\"]"
   ]
  },
  {
   "cell_type": "code",
   "execution_count": 109,
   "id": "0f23d0ad",
   "metadata": {},
   "outputs": [],
   "source": [
    "sehirler[\"Antalya\"] = 7"
   ]
  },
  {
   "cell_type": "code",
   "execution_count": 110,
   "id": "4a1660f2",
   "metadata": {},
   "outputs": [
    {
     "data": {
      "text/plain": [
       "{'Istanbul': 34,\n",
       " 'Bursa': 16,\n",
       " 'Ankara': 6,\n",
       " 'Edirne': 22,\n",
       " 'Trabzon': 61,\n",
       " 'Antalya': 7}"
      ]
     },
     "execution_count": 110,
     "metadata": {},
     "output_type": "execute_result"
    }
   ],
   "source": [
    "sehirler"
   ]
  },
  {
   "cell_type": "markdown",
   "id": "ded2dfec",
   "metadata": {},
   "source": [
    "sozlukte olmayan bir degere ulasmak istedigimizde"
   ]
  },
  {
   "cell_type": "code",
   "execution_count": 112,
   "id": "051eca29",
   "metadata": {},
   "outputs": [
    {
     "ename": "KeyError",
     "evalue": "'Adana'",
     "output_type": "error",
     "traceback": [
      "\u001b[1;31m---------------------------------------------------------------------------\u001b[0m",
      "\u001b[1;31mKeyError\u001b[0m                                  Traceback (most recent call last)",
      "\u001b[1;32m~\\AppData\\Local\\Temp/ipykernel_18080/4143990463.py\u001b[0m in \u001b[0;36m<module>\u001b[1;34m\u001b[0m\n\u001b[1;32m----> 1\u001b[1;33m \u001b[0msehirler\u001b[0m\u001b[1;33m[\u001b[0m\u001b[1;34m\"Adana\"\u001b[0m\u001b[1;33m]\u001b[0m\u001b[1;33m\u001b[0m\u001b[1;33m\u001b[0m\u001b[0m\n\u001b[0m",
      "\u001b[1;31mKeyError\u001b[0m: 'Adana'"
     ]
    }
   ],
   "source": [
    "sehirler[\"Adana\"]"
   ]
  },
  {
   "cell_type": "code",
   "execution_count": 115,
   "id": "9a469a7a",
   "metadata": {},
   "outputs": [
    {
     "name": "stdout",
     "output_type": "stream",
     "text": [
      "sehir kaydedilmemis durumda\n"
     ]
    }
   ],
   "source": [
    "print(sehirler.get(\"Adana\", 'sehir kaydedilmemis durumda')) ## get fonksiyonuna arguman ekleyerek eger ki hata durumu doncekse \n",
    "## arguman icindeki ciktiyi yazdirabiliriz"
   ]
  },
  {
   "cell_type": "code",
   "execution_count": 117,
   "id": "74884e8e",
   "metadata": {},
   "outputs": [
    {
     "name": "stdout",
     "output_type": "stream",
     "text": [
      "None\n"
     ]
    }
   ],
   "source": [
    "print(sehirler.get(\"Alanya\"))"
   ]
  },
  {
   "cell_type": "markdown",
   "id": "dc304a1c",
   "metadata": {},
   "source": [
    "### update()"
   ]
  },
  {
   "cell_type": "code",
   "execution_count": 118,
   "id": "5690680a",
   "metadata": {},
   "outputs": [
    {
     "data": {
      "text/plain": [
       "{'Istanbul': 34,\n",
       " 'Bursa': 16,\n",
       " 'Ankara': 6,\n",
       " 'Edirne': 22,\n",
       " 'Trabzon': 61,\n",
       " 'Antalya': 7}"
      ]
     },
     "execution_count": 118,
     "metadata": {},
     "output_type": "execute_result"
    }
   ],
   "source": [
    "sehirler"
   ]
  },
  {
   "cell_type": "code",
   "execution_count": 126,
   "id": "31151f5f",
   "metadata": {},
   "outputs": [],
   "source": [
    "sehir2 = {\"Canakkale\":17,\n",
    "         \"Tekirdag\":59,\n",
    "         \"Yalova\":77}"
   ]
  },
  {
   "cell_type": "code",
   "execution_count": 127,
   "id": "13a0cd0c",
   "metadata": {},
   "outputs": [
    {
     "data": {
      "text/plain": [
       "{'Canakkale': 17, 'Tekirdag': 59, 'Yalova': 77}"
      ]
     },
     "execution_count": 127,
     "metadata": {},
     "output_type": "execute_result"
    }
   ],
   "source": [
    "sehir2"
   ]
  },
  {
   "cell_type": "code",
   "execution_count": 128,
   "id": "d106fba6",
   "metadata": {},
   "outputs": [],
   "source": [
    "sehirler.update(sehir2)"
   ]
  },
  {
   "cell_type": "code",
   "execution_count": 129,
   "id": "9f9d1b25",
   "metadata": {
    "scrolled": true
   },
   "outputs": [
    {
     "data": {
      "text/plain": [
       "{'Istanbul': 34,\n",
       " 'Bursa': 16,\n",
       " 'Ankara': 6,\n",
       " 'Edirne': 22,\n",
       " 'Trabzon': 61,\n",
       " 'Antalya': 7,\n",
       " 'Canakkale': 17,\n",
       " 'Tekirdag': 59,\n",
       " 'Yalova': 77}"
      ]
     },
     "execution_count": 129,
     "metadata": {},
     "output_type": "execute_result"
    }
   ],
   "source": [
    "sehirler"
   ]
  },
  {
   "cell_type": "markdown",
   "id": "7f5c58a8",
   "metadata": {},
   "source": [
    "### del"
   ]
  },
  {
   "cell_type": "code",
   "execution_count": 130,
   "id": "4bd23535",
   "metadata": {},
   "outputs": [],
   "source": [
    "del sehirler[\"Yalova\"] ## yalova sehrini silecegiz"
   ]
  },
  {
   "cell_type": "code",
   "execution_count": 124,
   "id": "b41cf54c",
   "metadata": {},
   "outputs": [
    {
     "data": {
      "text/plain": [
       "{'Istanbul': 34,\n",
       " 'Bursa': 16,\n",
       " 'Ankara': 6,\n",
       " 'Edirne': 22,\n",
       " 'Trabzon': 61,\n",
       " 'Antalya': 7,\n",
       " 'Canakkale': 17,\n",
       " 'Tekirdag': 59}"
      ]
     },
     "execution_count": 124,
     "metadata": {},
     "output_type": "execute_result"
    }
   ],
   "source": [
    "sehirler"
   ]
  },
  {
   "cell_type": "code",
   "execution_count": 131,
   "id": "2a205e98",
   "metadata": {},
   "outputs": [
    {
     "ename": "KeyError",
     "evalue": "'Yalova'",
     "output_type": "error",
     "traceback": [
      "\u001b[1;31m---------------------------------------------------------------------------\u001b[0m",
      "\u001b[1;31mKeyError\u001b[0m                                  Traceback (most recent call last)",
      "\u001b[1;32m~\\AppData\\Local\\Temp/ipykernel_18080/414590137.py\u001b[0m in \u001b[0;36m<module>\u001b[1;34m\u001b[0m\n\u001b[1;32m----> 1\u001b[1;33m \u001b[1;32mdel\u001b[0m \u001b[0msehirler\u001b[0m\u001b[1;33m[\u001b[0m\u001b[1;34m\"Yalova\"\u001b[0m\u001b[1;33m]\u001b[0m \u001b[1;31m## tekarar denemek istedigimizde yalovanin olmadigini gorecegiz\u001b[0m\u001b[1;33m\u001b[0m\u001b[1;33m\u001b[0m\u001b[0m\n\u001b[0m",
      "\u001b[1;31mKeyError\u001b[0m: 'Yalova'"
     ]
    }
   ],
   "source": [
    "del sehirler[\"Yalova\"] ## tekarar denemek istedigimizde yalovanin olmadigini gorecegiz"
   ]
  },
  {
   "cell_type": "markdown",
   "id": "70355e72",
   "metadata": {},
   "source": [
    "Bir diger guvenli deger silme metodu ise pop() tur."
   ]
  },
  {
   "cell_type": "code",
   "execution_count": 132,
   "id": "78af15ac",
   "metadata": {},
   "outputs": [
    {
     "data": {
      "text/plain": [
       "59"
      ]
     },
     "execution_count": 132,
     "metadata": {},
     "output_type": "execute_result"
    }
   ],
   "source": [
    "sehirler.pop(\"Tekirdag\")"
   ]
  },
  {
   "cell_type": "code",
   "execution_count": 133,
   "id": "33854b0a",
   "metadata": {
    "scrolled": false
   },
   "outputs": [
    {
     "data": {
      "text/plain": [
       "{'Istanbul': 34,\n",
       " 'Bursa': 16,\n",
       " 'Ankara': 6,\n",
       " 'Edirne': 22,\n",
       " 'Trabzon': 61,\n",
       " 'Antalya': 7,\n",
       " 'Canakkale': 17}"
      ]
     },
     "execution_count": 133,
     "metadata": {},
     "output_type": "execute_result"
    }
   ],
   "source": [
    "sehirler"
   ]
  },
  {
   "cell_type": "markdown",
   "id": "e6268bf7",
   "metadata": {},
   "source": [
    "### Sozluk Anahtar ve Degerlerine Ulasma"
   ]
  },
  {
   "cell_type": "code",
   "execution_count": 135,
   "id": "64845faa",
   "metadata": {},
   "outputs": [
    {
     "data": {
      "text/plain": [
       "dict_keys(['Istanbul', 'Bursa', 'Ankara', 'Edirne', 'Trabzon', 'Antalya', 'Canakkale'])"
      ]
     },
     "execution_count": 135,
     "metadata": {},
     "output_type": "execute_result"
    }
   ],
   "source": [
    "sehirler.keys() ## sozluk anahtarlari"
   ]
  },
  {
   "cell_type": "code",
   "execution_count": 136,
   "id": "2930e47a",
   "metadata": {},
   "outputs": [
    {
     "data": {
      "text/plain": [
       "dict_values([34, 16, 6, 22, 61, 7, 17])"
      ]
     },
     "execution_count": 136,
     "metadata": {},
     "output_type": "execute_result"
    }
   ],
   "source": [
    "sehirler.values() ## sozluk degerleri"
   ]
  },
  {
   "cell_type": "code",
   "execution_count": 137,
   "id": "40cb5bcf",
   "metadata": {},
   "outputs": [
    {
     "data": {
      "text/plain": [
       "dict_items([('Istanbul', 34), ('Bursa', 16), ('Ankara', 6), ('Edirne', 22), ('Trabzon', 61), ('Antalya', 7), ('Canakkale', 17)])"
      ]
     },
     "execution_count": 137,
     "metadata": {},
     "output_type": "execute_result"
    }
   ],
   "source": [
    "sehirler.items() ## sozluukteki tum veriler"
   ]
  },
  {
   "cell_type": "code",
   "execution_count": 140,
   "id": "0b157868",
   "metadata": {},
   "outputs": [],
   "source": [
    "il_ve_ilceler = {\"Istanbul\": {\"Uskudar\":20,\"Fatih\":16,\"Beyoglu\":24},\n",
    "                \"Bursa\": {\"Osmangazi\":1,\"Yildirim\":2,\"Nilufer\":3},\n",
    "                \"Ankara\": {\"Cankaya\":5,\"Kecioren\":8,\"Bestepe\":32},\n",
    "                \"Il Plakalari\": [34,16,6]}"
   ]
  },
  {
   "cell_type": "code",
   "execution_count": 141,
   "id": "0dd5ca8c",
   "metadata": {},
   "outputs": [
    {
     "data": {
      "text/plain": [
       "{'Istanbul': {'Uskudar': 20, 'Fatih': 16, 'Beyoglu': 24},\n",
       " 'Bursa': {'Osmangazi': 1, 'Yildirim': 2, 'Nilufer': 3},\n",
       " 'Ankara': {'Cankaya': 5, 'Kecioren': 8, 'Bestepe': 32},\n",
       " 'Il Plakalari': [34, 16, 6]}"
      ]
     },
     "execution_count": 141,
     "metadata": {},
     "output_type": "execute_result"
    }
   ],
   "source": [
    "il_ve_ilceler"
   ]
  },
  {
   "cell_type": "code",
   "execution_count": 143,
   "id": "5811c4c2",
   "metadata": {},
   "outputs": [
    {
     "data": {
      "text/plain": [
       "20"
      ]
     },
     "execution_count": 143,
     "metadata": {},
     "output_type": "execute_result"
    }
   ],
   "source": [
    "il_ve_ilceler[\"Istanbul\"][\"Uskudar\"] ## degere ulamak istedigimizde"
   ]
  },
  {
   "cell_type": "code",
   "execution_count": 144,
   "id": "d8cdcc53",
   "metadata": {},
   "outputs": [
    {
     "data": {
      "text/plain": [
       "{'Uskudar': 20, 'Fatih': 16, 'Beyoglu': 24}"
      ]
     },
     "execution_count": 144,
     "metadata": {},
     "output_type": "execute_result"
    }
   ],
   "source": [
    "il_ve_ilceler[\"Istanbul\"]"
   ]
  },
  {
   "cell_type": "code",
   "execution_count": 145,
   "id": "d2c70d15",
   "metadata": {
    "scrolled": true
   },
   "outputs": [
    {
     "data": {
      "text/plain": [
       "[34, 16, 6]"
      ]
     },
     "execution_count": 145,
     "metadata": {},
     "output_type": "execute_result"
    }
   ],
   "source": [
    "il_ve_ilceler[\"Il Plakalari\"]"
   ]
  },
  {
   "cell_type": "markdown",
   "id": "b03b8f88",
   "metadata": {},
   "source": [
    "## String Veri Yapıları"
   ]
  },
  {
   "cell_type": "code",
   "execution_count": 147,
   "id": "6d2d5fdb",
   "metadata": {},
   "outputs": [
    {
     "data": {
      "text/plain": [
       "'merhaba python'"
      ]
     },
     "execution_count": 147,
     "metadata": {},
     "output_type": "execute_result"
    }
   ],
   "source": [
    "\"merhaba python\" ## bir karakter dizisidir."
   ]
  },
  {
   "cell_type": "code",
   "execution_count": 148,
   "id": "e68b0ce9",
   "metadata": {},
   "outputs": [
    {
     "ename": "SyntaxError",
     "evalue": "invalid syntax (Temp/ipykernel_18080/3942542721.py, line 1)",
     "output_type": "error",
     "traceback": [
      "\u001b[1;36m  File \u001b[1;32m\"C:\\Users\\mehme\\AppData\\Local\\Temp/ipykernel_18080/3942542721.py\"\u001b[1;36m, line \u001b[1;32m1\u001b[0m\n\u001b[1;33m    merhaba python\" ## seklinde yazarsak hata alacagiz\u001b[0m\n\u001b[1;37m            ^\u001b[0m\n\u001b[1;31mSyntaxError\u001b[0m\u001b[1;31m:\u001b[0m invalid syntax\n"
     ]
    }
   ],
   "source": [
    "merhaba python\" ## seklinde yazarsak hata alacagiz"
   ]
  },
  {
   "cell_type": "code",
   "execution_count": 149,
   "id": "b4c3e0af",
   "metadata": {},
   "outputs": [
    {
     "data": {
      "text/plain": [
       "'merhaba python'"
      ]
     },
     "execution_count": 149,
     "metadata": {},
     "output_type": "execute_result"
    }
   ],
   "source": [
    "'merhaba python'"
   ]
  },
  {
   "cell_type": "code",
   "execution_count": 151,
   "id": "eb248150",
   "metadata": {},
   "outputs": [
    {
     "data": {
      "text/plain": [
       "'merhaba python'"
      ]
     },
     "execution_count": 151,
     "metadata": {},
     "output_type": "execute_result"
    }
   ],
   "source": [
    "'merhaba ' 'python' ## seklinde yazarsak tek metin halinde donecektir"
   ]
  },
  {
   "cell_type": "code",
   "execution_count": 152,
   "id": "5b79a3a0",
   "metadata": {},
   "outputs": [],
   "source": [
    "merhaba = \"merhaba  python\""
   ]
  },
  {
   "cell_type": "code",
   "execution_count": 154,
   "id": "9414ab7e",
   "metadata": {
    "scrolled": false
   },
   "outputs": [
    {
     "data": {
      "text/plain": [
       "'merhaba  python'"
      ]
     },
     "execution_count": 154,
     "metadata": {},
     "output_type": "execute_result"
    }
   ],
   "source": [
    "merhaba ## merhaba degiskeni karakteristik yani bir str dir"
   ]
  },
  {
   "cell_type": "markdown",
   "id": "8927498a",
   "metadata": {},
   "source": [
    "### String Manipülasyonları"
   ]
  },
  {
   "cell_type": "code",
   "execution_count": 156,
   "id": "4b6b33c2",
   "metadata": {},
   "outputs": [
    {
     "data": {
      "text/plain": [
       "'r'"
      ]
     },
     "execution_count": 156,
     "metadata": {},
     "output_type": "execute_result"
    }
   ],
   "source": [
    "merhaba[2] ## 2. indeksteki 3 siradaki degeri doner"
   ]
  },
  {
   "cell_type": "code",
   "execution_count": 157,
   "id": "eb874672",
   "metadata": {},
   "outputs": [
    {
     "data": {
      "text/plain": [
       "'b'"
      ]
     },
     "execution_count": 157,
     "metadata": {},
     "output_type": "execute_result"
    }
   ],
   "source": [
    "merhaba[5]"
   ]
  },
  {
   "cell_type": "code",
   "execution_count": 159,
   "id": "43d1c122",
   "metadata": {},
   "outputs": [
    {
     "name": "stdout",
     "output_type": "stream",
     "text": [
      "Merhaba python.\n"
     ]
    }
   ],
   "source": [
    "print(\"Merhaba python.\")"
   ]
  },
  {
   "cell_type": "code",
   "execution_count": 160,
   "id": "f50306c6",
   "metadata": {},
   "outputs": [],
   "source": [
    "sayi = 20"
   ]
  },
  {
   "cell_type": "code",
   "execution_count": 161,
   "id": "9b158146",
   "metadata": {},
   "outputs": [
    {
     "data": {
      "text/plain": [
       "int"
      ]
     },
     "execution_count": 161,
     "metadata": {},
     "output_type": "execute_result"
    }
   ],
   "source": [
    "type(sayi)"
   ]
  },
  {
   "cell_type": "code",
   "execution_count": 162,
   "id": "42e14ae7",
   "metadata": {},
   "outputs": [],
   "source": [
    "yeni_sayi = str(sayi)"
   ]
  },
  {
   "cell_type": "code",
   "execution_count": 164,
   "id": "2b315dd3",
   "metadata": {},
   "outputs": [
    {
     "data": {
      "text/plain": [
       "str"
      ]
     },
     "execution_count": 164,
     "metadata": {},
     "output_type": "execute_result"
    }
   ],
   "source": [
    "type(yeni_sayi)"
   ]
  },
  {
   "cell_type": "code",
   "execution_count": 165,
   "id": "be7ccb59",
   "metadata": {},
   "outputs": [
    {
     "data": {
      "text/plain": [
       "\"\\nSozlukler anahtar ve deger kombpnasyonundan olusmaktadirlar. \\nSozlukteki anahtar ve degerlere veya her ikisine ayni anda ulasmani farkli metodlari mevcuttur. \\nBunlar sirasiyla\\xa0.keys()\\xa0,\\xa0.values(), ve\\xa0.items() metodlariyla gerceklesir. \\nHadi bunlara bir de python'da bakalim.\\n\\n\""
      ]
     },
     "execution_count": 165,
     "metadata": {},
     "output_type": "execute_result"
    }
   ],
   "source": [
    "## pythonda bir den fazla satirda metin yazilmak isteniyorsa 3 tirnak isareti konularak yazilabilmektedir.\n",
    "\"\"\"\n",
    "Sozlukler anahtar ve deger kombpnasyonundan olusmaktadirlar. \n",
    "Sozlukteki anahtar ve degerlere veya her ikisine ayni anda ulasmani farkli metodlari mevcuttur. \n",
    "Bunlar sirasiyla .keys() , .values(), ve .items() metodlariyla gerceklesir. \n",
    "Hadi bunlara bir de python'da bakalim.\n",
    "\n",
    "\"\"\""
   ]
  },
  {
   "cell_type": "code",
   "execution_count": 166,
   "id": "5c3aebfb",
   "metadata": {},
   "outputs": [],
   "source": [
    "karakter = \"Sozlukler anahtar \\nve deger kombpnasyonundan \\nolusmaktadirlar.  \""
   ]
  },
  {
   "cell_type": "code",
   "execution_count": 168,
   "id": "08c74b84",
   "metadata": {},
   "outputs": [
    {
     "name": "stdout",
     "output_type": "stream",
     "text": [
      "Sozlukler anahtar \n",
      "ve deger kombpnasyonundan \n",
      "olusmaktadirlar.  \n"
     ]
    }
   ],
   "source": [
    "print(karakter) ## satir alta gecmek icin \\n parametresi kullanilir."
   ]
  },
  {
   "cell_type": "code",
   "execution_count": 172,
   "id": "4f3cfb71",
   "metadata": {},
   "outputs": [],
   "source": [
    "ad = \"Mehmet \""
   ]
  },
  {
   "cell_type": "code",
   "execution_count": 173,
   "id": "3e6aadf4",
   "metadata": {},
   "outputs": [],
   "source": [
    "soyad = \"Rizgic\""
   ]
  },
  {
   "cell_type": "code",
   "execution_count": 175,
   "id": "ba8a8949",
   "metadata": {},
   "outputs": [],
   "source": [
    "tamad = ad + soyad"
   ]
  },
  {
   "cell_type": "code",
   "execution_count": 176,
   "id": "97ab8b22",
   "metadata": {
    "scrolled": true
   },
   "outputs": [
    {
     "name": "stdout",
     "output_type": "stream",
     "text": [
      "Mehmet Rizgic\n"
     ]
    }
   ],
   "source": [
    "print(tamad)"
   ]
  },
  {
   "cell_type": "code",
   "execution_count": 177,
   "id": "c824dcd8",
   "metadata": {},
   "outputs": [
    {
     "data": {
      "text/plain": [
       "'Mehmet RizgicMehmet RizgicMehmet Rizgic'"
      ]
     },
     "execution_count": 177,
     "metadata": {},
     "output_type": "execute_result"
    }
   ],
   "source": [
    "tamad * 3"
   ]
  },
  {
   "cell_type": "code",
   "execution_count": 193,
   "id": "c19060e9",
   "metadata": {},
   "outputs": [],
   "source": [
    "uny = \"marmara universitesi\""
   ]
  },
  {
   "cell_type": "code",
   "execution_count": 180,
   "id": "3e19ad3c",
   "metadata": {},
   "outputs": [
    {
     "data": {
      "text/plain": [
       "'Marmara Universitesi'"
      ]
     },
     "execution_count": 180,
     "metadata": {},
     "output_type": "execute_result"
    }
   ],
   "source": [
    "uny.title()"
   ]
  },
  {
   "cell_type": "code",
   "execution_count": 181,
   "id": "68d82470",
   "metadata": {},
   "outputs": [
    {
     "data": {
      "text/plain": [
       "'Marmara universitesi'"
      ]
     },
     "execution_count": 181,
     "metadata": {},
     "output_type": "execute_result"
    }
   ],
   "source": [
    "uny.capitalize()"
   ]
  },
  {
   "cell_type": "code",
   "execution_count": 182,
   "id": "efd131e3",
   "metadata": {},
   "outputs": [
    {
     "data": {
      "text/plain": [
       "'MARMARA UNIVERSITESI'"
      ]
     },
     "execution_count": 182,
     "metadata": {},
     "output_type": "execute_result"
    }
   ],
   "source": [
    "uny.upper()"
   ]
  },
  {
   "cell_type": "code",
   "execution_count": 183,
   "id": "a57877f0",
   "metadata": {},
   "outputs": [
    {
     "data": {
      "text/plain": [
       "'marmara universitesi'"
      ]
     },
     "execution_count": 183,
     "metadata": {},
     "output_type": "execute_result"
    }
   ],
   "source": [
    "uny.lower()"
   ]
  },
  {
   "cell_type": "code",
   "execution_count": 184,
   "id": "e52c1d43",
   "metadata": {},
   "outputs": [],
   "source": [
    "uny = \"      marmara      universitesi      \""
   ]
  },
  {
   "cell_type": "code",
   "execution_count": 185,
   "id": "a6466b83",
   "metadata": {},
   "outputs": [
    {
     "data": {
      "text/plain": [
       "'      marmara      universitesi'"
      ]
     },
     "execution_count": 185,
     "metadata": {},
     "output_type": "execute_result"
    }
   ],
   "source": [
    "uny.rstrip()"
   ]
  },
  {
   "cell_type": "code",
   "execution_count": 187,
   "id": "aca12ab4",
   "metadata": {},
   "outputs": [
    {
     "data": {
      "text/plain": [
       "'marmara      universitesi      '"
      ]
     },
     "execution_count": 187,
     "metadata": {},
     "output_type": "execute_result"
    }
   ],
   "source": [
    "uny.lstrip()"
   ]
  },
  {
   "cell_type": "code",
   "execution_count": 188,
   "id": "48829ff4",
   "metadata": {
    "scrolled": true
   },
   "outputs": [
    {
     "data": {
      "text/plain": [
       "'marmara      universitesi'"
      ]
     },
     "execution_count": 188,
     "metadata": {},
     "output_type": "execute_result"
    }
   ],
   "source": [
    "uny.strip()"
   ]
  },
  {
   "cell_type": "code",
   "execution_count": 189,
   "id": "5526e41b",
   "metadata": {},
   "outputs": [],
   "source": [
    "karakter = \"Sozlukler anahtar ve deger kombpnasyonundan olusmaktadirlar.  \""
   ]
  },
  {
   "cell_type": "code",
   "execution_count": 191,
   "id": "d2abe451",
   "metadata": {},
   "outputs": [
    {
     "data": {
      "text/plain": [
       "['Sozlukler', 'anahtar', 've', 'deger', 'kombpnasyonundan', 'olusmaktadirlar.']"
      ]
     },
     "execution_count": 191,
     "metadata": {},
     "output_type": "execute_result"
    }
   ],
   "source": [
    "karakter.split() ## bir metni kelimelere gore ayirir"
   ]
  },
  {
   "cell_type": "code",
   "execution_count": 192,
   "id": "db2264b4",
   "metadata": {},
   "outputs": [
    {
     "data": {
      "text/plain": [
       "8"
      ]
     },
     "execution_count": 192,
     "metadata": {},
     "output_type": "execute_result"
    }
   ],
   "source": [
    "karakter.count(\"a\") ## count ile bir karakterin kac defa gectigini goruruz."
   ]
  },
  {
   "cell_type": "code",
   "execution_count": 195,
   "id": "14dab2f1",
   "metadata": {},
   "outputs": [
    {
     "data": {
      "text/plain": [
       "True"
      ]
     },
     "execution_count": 195,
     "metadata": {},
     "output_type": "execute_result"
    }
   ],
   "source": [
    "uny.startswith(\"m\") ## parantez icine girilen deger ile baslanip baslanmadiginin sorgusunu yapar."
   ]
  },
  {
   "cell_type": "code",
   "execution_count": 196,
   "id": "568e7891",
   "metadata": {},
   "outputs": [
    {
     "data": {
      "text/plain": [
       "False"
      ]
     },
     "execution_count": 196,
     "metadata": {},
     "output_type": "execute_result"
    }
   ],
   "source": [
    "uny.endswith(\"m\")"
   ]
  },
  {
   "cell_type": "code",
   "execution_count": 198,
   "id": "87338bba",
   "metadata": {},
   "outputs": [
    {
     "data": {
      "text/plain": [
       "2"
      ]
     },
     "execution_count": 198,
     "metadata": {},
     "output_type": "execute_result"
    }
   ],
   "source": [
    "uny.find(\"r\")"
   ]
  }
 ],
 "metadata": {
  "kernelspec": {
   "display_name": "Python 3 (ipykernel)",
   "language": "python",
   "name": "python3"
  },
  "language_info": {
   "codemirror_mode": {
    "name": "ipython",
    "version": 3
   },
   "file_extension": ".py",
   "mimetype": "text/x-python",
   "name": "python",
   "nbconvert_exporter": "python",
   "pygments_lexer": "ipython3",
   "version": "3.9.7"
  }
 },
 "nbformat": 4,
 "nbformat_minor": 5
}
