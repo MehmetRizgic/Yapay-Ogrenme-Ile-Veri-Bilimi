{
 "cells": [
  {
   "cell_type": "markdown",
   "id": "7c0d4bfa",
   "metadata": {},
   "source": [
    "## Matematik İşlemleri"
   ]
  },
  {
   "cell_type": "code",
   "execution_count": 1,
   "id": "014087fa",
   "metadata": {},
   "outputs": [
    {
     "data": {
      "text/plain": [
       "24"
      ]
     },
     "execution_count": 1,
     "metadata": {},
     "output_type": "execute_result"
    }
   ],
   "source": [
    "20 + 4 ## toplama islemi"
   ]
  },
  {
   "cell_type": "code",
   "execution_count": 4,
   "id": "fd885faa",
   "metadata": {},
   "outputs": [
    {
     "data": {
      "text/plain": [
       "2.0"
      ]
     },
     "execution_count": 4,
     "metadata": {},
     "output_type": "execute_result"
    }
   ],
   "source": [
    "16 / 8 ## bolme islemi"
   ]
  },
  {
   "cell_type": "code",
   "execution_count": 5,
   "id": "aceb926a",
   "metadata": {},
   "outputs": [
    {
     "data": {
      "text/plain": [
       "64"
      ]
     },
     "execution_count": 5,
     "metadata": {},
     "output_type": "execute_result"
    }
   ],
   "source": [
    "8 * 8 ## carpma islemi"
   ]
  },
  {
   "cell_type": "code",
   "execution_count": 6,
   "id": "6c68ac19",
   "metadata": {},
   "outputs": [
    {
     "data": {
      "text/plain": [
       "16"
      ]
     },
     "execution_count": 6,
     "metadata": {},
     "output_type": "execute_result"
    }
   ],
   "source": [
    "20 - 4 ## cikarma islemi"
   ]
  },
  {
   "cell_type": "markdown",
   "id": "bb91bd4a",
   "metadata": {},
   "source": [
    "## Değişken Atama İşlemi İle Matematik"
   ]
  },
  {
   "cell_type": "code",
   "execution_count": 7,
   "id": "b6aaeb82",
   "metadata": {},
   "outputs": [],
   "source": [
    "b = 4  ## b degerine 4 sayisal degeri atandi"
   ]
  },
  {
   "cell_type": "code",
   "execution_count": 9,
   "id": "d00a5f16",
   "metadata": {},
   "outputs": [],
   "source": [
    "d = 8 ## d degerine 8 sayisal degeri atandi"
   ]
  },
  {
   "cell_type": "code",
   "execution_count": 11,
   "id": "33d367db",
   "metadata": {},
   "outputs": [
    {
     "data": {
      "text/plain": [
       "32"
      ]
     },
     "execution_count": 11,
     "metadata": {},
     "output_type": "execute_result"
    }
   ],
   "source": [
    "b*d ## carpma islemi"
   ]
  },
  {
   "cell_type": "code",
   "execution_count": 12,
   "id": "931b9e86",
   "metadata": {},
   "outputs": [
    {
     "data": {
      "text/plain": [
       "2.0"
      ]
     },
     "execution_count": 12,
     "metadata": {},
     "output_type": "execute_result"
    }
   ],
   "source": [
    "d/b ## bolme islemi "
   ]
  },
  {
   "cell_type": "code",
   "execution_count": 13,
   "id": "08d910d3",
   "metadata": {},
   "outputs": [
    {
     "data": {
      "text/plain": [
       "64"
      ]
     },
     "execution_count": 13,
     "metadata": {},
     "output_type": "execute_result"
    }
   ],
   "source": [
    "d ** 2 ##  cift yildiz kare alma islemidir"
   ]
  },
  {
   "cell_type": "code",
   "execution_count": 14,
   "id": "020bf145",
   "metadata": {},
   "outputs": [],
   "source": [
    "a, b = 2, 5 ## python da tek islem ile sirali atama yapma islemi"
   ]
  },
  {
   "cell_type": "code",
   "execution_count": 15,
   "id": "16721610",
   "metadata": {},
   "outputs": [
    {
     "data": {
      "text/plain": [
       "2"
      ]
     },
     "execution_count": 15,
     "metadata": {},
     "output_type": "execute_result"
    }
   ],
   "source": [
    "a"
   ]
  },
  {
   "cell_type": "code",
   "execution_count": 16,
   "id": "9eecebba",
   "metadata": {},
   "outputs": [
    {
     "data": {
      "text/plain": [
       "5"
      ]
     },
     "execution_count": 16,
     "metadata": {},
     "output_type": "execute_result"
    }
   ],
   "source": [
    "b"
   ]
  },
  {
   "cell_type": "code",
   "execution_count": 18,
   "id": "138cdeb9",
   "metadata": {},
   "outputs": [
    {
     "data": {
      "text/plain": [
       "7"
      ]
     },
     "execution_count": 18,
     "metadata": {},
     "output_type": "execute_result"
    }
   ],
   "source": [
    "a + b"
   ]
  },
  {
   "cell_type": "markdown",
   "id": "ec5bf861",
   "metadata": {},
   "source": [
    "## Karakter Değişkenleri İçin Atama İşlemleri"
   ]
  },
  {
   "cell_type": "code",
   "execution_count": 19,
   "id": "02c52008",
   "metadata": {},
   "outputs": [
    {
     "data": {
      "text/plain": [
       "'merhaba'"
      ]
     },
     "execution_count": 19,
     "metadata": {},
     "output_type": "execute_result"
    }
   ],
   "source": [
    "'merhaba' ## (' ', \" \") seklinde tirnak isareti icine alinan her turlu  eleman bir karakter dizi yapisini almaktadir."
   ]
  },
  {
   "cell_type": "code",
   "execution_count": 20,
   "id": "1d8d9e44",
   "metadata": {},
   "outputs": [
    {
     "data": {
      "text/plain": [
       "'merhaba'"
      ]
     },
     "execution_count": 20,
     "metadata": {},
     "output_type": "execute_result"
    }
   ],
   "source": [
    "\"merhaba\""
   ]
  },
  {
   "cell_type": "code",
   "execution_count": 21,
   "id": "20d4d79f",
   "metadata": {},
   "outputs": [
    {
     "data": {
      "text/plain": [
       "'\\nMerhabalar.\\nBu calisma veri bilimi dunyasinda \\nkodlama icin yapilamaktadir. \\n\\n'"
      ]
     },
     "execution_count": 21,
     "metadata": {},
     "output_type": "execute_result"
    }
   ],
   "source": [
    "\"\"\"\n",
    "Merhabalar.\n",
    "Bu calisma veri bilimi dunyasinda \n",
    "kodlama icin yapilamaktadir. \n",
    "\n",
    "\"\"\"\n",
    "## eger bir den fazla satir uzerinde aciklama yapmak istiyorsak 3 tirnak arasina bu aciklama yaparak bir metin girdisi \n",
    "## olusturulabilmektedir."
   ]
  },
  {
   "cell_type": "code",
   "execution_count": 34,
   "id": "8c2b98a1",
   "metadata": {},
   "outputs": [],
   "source": [
    "cikti = \"merhaba\" ## degiskenler karakter dizileri olarak bu sekilde tanimlanmaktadirlar."
   ]
  },
  {
   "cell_type": "code",
   "execution_count": 23,
   "id": "42c81d22",
   "metadata": {},
   "outputs": [
    {
     "data": {
      "text/plain": [
       "'merhaba'"
      ]
     },
     "execution_count": 23,
     "metadata": {},
     "output_type": "execute_result"
    }
   ],
   "source": [
    "cikti"
   ]
  },
  {
   "cell_type": "code",
   "execution_count": 24,
   "id": "ea59fa7f",
   "metadata": {},
   "outputs": [],
   "source": [
    "sayi = 2400"
   ]
  },
  {
   "cell_type": "code",
   "execution_count": 25,
   "id": "51e74100",
   "metadata": {},
   "outputs": [
    {
     "name": "stdout",
     "output_type": "stream",
     "text": [
      "merhaba\n"
     ]
    }
   ],
   "source": [
    "print(cikti)"
   ]
  },
  {
   "cell_type": "code",
   "execution_count": 26,
   "id": "2ed5c685",
   "metadata": {},
   "outputs": [
    {
     "name": "stdout",
     "output_type": "stream",
     "text": [
      "2400\n"
     ]
    }
   ],
   "source": [
    "print(sayi)"
   ]
  },
  {
   "cell_type": "code",
   "execution_count": 27,
   "id": "aeb8eda9",
   "metadata": {},
   "outputs": [
    {
     "name": "stdout",
     "output_type": "stream",
     "text": [
      "merhaba\n"
     ]
    }
   ],
   "source": [
    "print(\"merhaba\")"
   ]
  },
  {
   "cell_type": "code",
   "execution_count": 32,
   "id": "a33709f7",
   "metadata": {},
   "outputs": [],
   "source": [
    "del cikti ## del metodu ile yukarida tanimlanmis olan cikti degiskeni ayrica silinebilmektedir"
   ]
  },
  {
   "cell_type": "code",
   "execution_count": 29,
   "id": "087c37eb",
   "metadata": {},
   "outputs": [
    {
     "ename": "NameError",
     "evalue": "name 'cikti' is not defined",
     "output_type": "error",
     "traceback": [
      "\u001b[1;31m---------------------------------------------------------------------------\u001b[0m",
      "\u001b[1;31mNameError\u001b[0m                                 Traceback (most recent call last)",
      "\u001b[1;32m~\\AppData\\Local\\Temp/ipykernel_3188/336421862.py\u001b[0m in \u001b[0;36m<module>\u001b[1;34m\u001b[0m\n\u001b[1;32m----> 1\u001b[1;33m \u001b[0mcikti\u001b[0m\u001b[1;33m\u001b[0m\u001b[1;33m\u001b[0m\u001b[0m\n\u001b[0m",
      "\u001b[1;31mNameError\u001b[0m: name 'cikti' is not defined"
     ]
    }
   ],
   "source": [
    "cikti"
   ]
  },
  {
   "cell_type": "markdown",
   "id": "da42e93a",
   "metadata": {},
   "source": [
    "## Karakter Dizisi Metodları"
   ]
  },
  {
   "cell_type": "code",
   "execution_count": 36,
   "id": "3c06311f",
   "metadata": {},
   "outputs": [
    {
     "data": {
      "text/plain": [
       "7"
      ]
     },
     "execution_count": 36,
     "metadata": {},
     "output_type": "execute_result"
    }
   ],
   "source": [
    "len(cikti) ## len metodu bir karakter dizisinin indeks sayisi toplamini vermektedir. Integer icin islem yapmaz"
   ]
  },
  {
   "cell_type": "code",
   "execution_count": 37,
   "id": "24fafb10",
   "metadata": {},
   "outputs": [
    {
     "data": {
      "text/plain": [
       "2"
      ]
     },
     "execution_count": 37,
     "metadata": {},
     "output_type": "execute_result"
    }
   ],
   "source": [
    "len(\"MR\")"
   ]
  },
  {
   "cell_type": "code",
   "execution_count": 38,
   "id": "4e55abdb",
   "metadata": {},
   "outputs": [],
   "source": [
    "a = 16, 64 ,96"
   ]
  },
  {
   "cell_type": "code",
   "execution_count": 40,
   "id": "a440be35",
   "metadata": {},
   "outputs": [
    {
     "data": {
      "text/plain": [
       "3"
      ]
     },
     "execution_count": 40,
     "metadata": {},
     "output_type": "execute_result"
    }
   ],
   "source": [
    "len(a) ## a degiskeni dizi olarak tanimlanmistir"
   ]
  },
  {
   "cell_type": "markdown",
   "id": "a908e865",
   "metadata": {},
   "source": [
    "### Upper ve Lower Metodları"
   ]
  },
  {
   "cell_type": "code",
   "execution_count": 42,
   "id": "a1e3103d",
   "metadata": {},
   "outputs": [
    {
     "data": {
      "text/plain": [
       "'MR'"
      ]
     },
     "execution_count": 42,
     "metadata": {},
     "output_type": "execute_result"
    }
   ],
   "source": [
    "'mr'.upper() ## upper metodu karakterleri buyutmek icin kullanilir."
   ]
  },
  {
   "cell_type": "code",
   "execution_count": 44,
   "id": "2de129f6",
   "metadata": {},
   "outputs": [
    {
     "data": {
      "text/plain": [
       "'mr'"
      ]
     },
     "execution_count": 44,
     "metadata": {},
     "output_type": "execute_result"
    }
   ],
   "source": [
    "\"MR\".lower() ## lower metodu karakterleri kucultmek icin kullanilir."
   ]
  },
  {
   "cell_type": "code",
   "execution_count": 45,
   "id": "2374a0ab",
   "metadata": {},
   "outputs": [
    {
     "data": {
      "text/plain": [
       "'MERHABA'"
      ]
     },
     "execution_count": 45,
     "metadata": {},
     "output_type": "execute_result"
    }
   ],
   "source": [
    "cikti.upper()"
   ]
  },
  {
   "cell_type": "code",
   "execution_count": 5,
   "id": "8ca10a5d",
   "metadata": {},
   "outputs": [],
   "source": [
    "kucuk = \"Merhaba\""
   ]
  },
  {
   "cell_type": "code",
   "execution_count": 6,
   "id": "8eaf1e53",
   "metadata": {},
   "outputs": [
    {
     "data": {
      "text/plain": [
       "'merhaba'"
      ]
     },
     "execution_count": 6,
     "metadata": {},
     "output_type": "execute_result"
    }
   ],
   "source": [
    "kucuk.lower()"
   ]
  },
  {
   "cell_type": "markdown",
   "id": "3323965d",
   "metadata": {},
   "source": [
    "## Replace Metodu"
   ]
  },
  {
   "cell_type": "code",
   "execution_count": 7,
   "id": "0bd3b923",
   "metadata": {},
   "outputs": [
    {
     "data": {
      "text/plain": [
       "'Merhebe'"
      ]
     },
     "execution_count": 7,
     "metadata": {},
     "output_type": "execute_result"
    }
   ],
   "source": [
    "kucuk.replace(\"a\", \"e\") ## ilk alinan deger degisitirilmesi istenen deger olmakla 2. deger ise yerine atanacak\n",
    "## degeri simgelemektedir."
   ]
  },
  {
   "cell_type": "code",
   "execution_count": 9,
   "id": "cf2a2283",
   "metadata": {},
   "outputs": [
    {
     "data": {
      "text/plain": [
       "'Merhebe'"
      ]
     },
     "execution_count": 9,
     "metadata": {},
     "output_type": "execute_result"
    }
   ],
   "source": [
    "## ancak yukaridaki islemde bir degisiklik yapilsada globale kayitlanmadigi icin yapilan degisikligin\n",
    "## ayni zaman da yeniden atanmasi gerekmektedir.\n",
    "kucuk = kucuk.replace(\"a\", \"e\") \n",
    "kucuk"
   ]
  },
  {
   "cell_type": "code",
   "execution_count": 10,
   "id": "e2b521c9",
   "metadata": {},
   "outputs": [
    {
     "data": {
      "text/plain": [
       "'Nerhebe'"
      ]
     },
     "execution_count": 10,
     "metadata": {},
     "output_type": "execute_result"
    }
   ],
   "source": [
    "kucuk = kucuk.replace(\"M\",\"N\")\n",
    "kucuk"
   ]
  },
  {
   "cell_type": "code",
   "execution_count": 11,
   "id": "0d78aaf8",
   "metadata": {
    "scrolled": true
   },
   "outputs": [
    {
     "data": {
      "text/plain": [
       "['__add__',\n",
       " '__class__',\n",
       " '__contains__',\n",
       " '__delattr__',\n",
       " '__dir__',\n",
       " '__doc__',\n",
       " '__eq__',\n",
       " '__format__',\n",
       " '__ge__',\n",
       " '__getattribute__',\n",
       " '__getitem__',\n",
       " '__getnewargs__',\n",
       " '__gt__',\n",
       " '__hash__',\n",
       " '__init__',\n",
       " '__init_subclass__',\n",
       " '__iter__',\n",
       " '__le__',\n",
       " '__len__',\n",
       " '__lt__',\n",
       " '__mod__',\n",
       " '__mul__',\n",
       " '__ne__',\n",
       " '__new__',\n",
       " '__reduce__',\n",
       " '__reduce_ex__',\n",
       " '__repr__',\n",
       " '__rmod__',\n",
       " '__rmul__',\n",
       " '__setattr__',\n",
       " '__sizeof__',\n",
       " '__str__',\n",
       " '__subclasshook__',\n",
       " 'capitalize',\n",
       " 'casefold',\n",
       " 'center',\n",
       " 'count',\n",
       " 'encode',\n",
       " 'endswith',\n",
       " 'expandtabs',\n",
       " 'find',\n",
       " 'format',\n",
       " 'format_map',\n",
       " 'index',\n",
       " 'isalnum',\n",
       " 'isalpha',\n",
       " 'isascii',\n",
       " 'isdecimal',\n",
       " 'isdigit',\n",
       " 'isidentifier',\n",
       " 'islower',\n",
       " 'isnumeric',\n",
       " 'isprintable',\n",
       " 'isspace',\n",
       " 'istitle',\n",
       " 'isupper',\n",
       " 'join',\n",
       " 'ljust',\n",
       " 'lower',\n",
       " 'lstrip',\n",
       " 'maketrans',\n",
       " 'partition',\n",
       " 'removeprefix',\n",
       " 'removesuffix',\n",
       " 'replace',\n",
       " 'rfind',\n",
       " 'rindex',\n",
       " 'rjust',\n",
       " 'rpartition',\n",
       " 'rsplit',\n",
       " 'rstrip',\n",
       " 'split',\n",
       " 'splitlines',\n",
       " 'startswith',\n",
       " 'strip',\n",
       " 'swapcase',\n",
       " 'title',\n",
       " 'translate',\n",
       " 'upper',\n",
       " 'zfill']"
      ]
     },
     "execution_count": 11,
     "metadata": {},
     "output_type": "execute_result"
    }
   ],
   "source": [
    "# dir() metodu ile herhangi bir nesneye uygulanabilecek metodlar goruntulenebilir.\n",
    "dir(kucuk)"
   ]
  },
  {
   "cell_type": "code",
   "execution_count": 12,
   "id": "3c2168c2",
   "metadata": {
    "scrolled": true
   },
   "outputs": [
    {
     "data": {
      "text/plain": [
       "['__add__',\n",
       " '__class__',\n",
       " '__contains__',\n",
       " '__delattr__',\n",
       " '__dir__',\n",
       " '__doc__',\n",
       " '__eq__',\n",
       " '__format__',\n",
       " '__ge__',\n",
       " '__getattribute__',\n",
       " '__getitem__',\n",
       " '__getnewargs__',\n",
       " '__gt__',\n",
       " '__hash__',\n",
       " '__init__',\n",
       " '__init_subclass__',\n",
       " '__iter__',\n",
       " '__le__',\n",
       " '__len__',\n",
       " '__lt__',\n",
       " '__mod__',\n",
       " '__mul__',\n",
       " '__ne__',\n",
       " '__new__',\n",
       " '__reduce__',\n",
       " '__reduce_ex__',\n",
       " '__repr__',\n",
       " '__rmod__',\n",
       " '__rmul__',\n",
       " '__setattr__',\n",
       " '__sizeof__',\n",
       " '__str__',\n",
       " '__subclasshook__',\n",
       " 'capitalize',\n",
       " 'casefold',\n",
       " 'center',\n",
       " 'count',\n",
       " 'encode',\n",
       " 'endswith',\n",
       " 'expandtabs',\n",
       " 'find',\n",
       " 'format',\n",
       " 'format_map',\n",
       " 'index',\n",
       " 'isalnum',\n",
       " 'isalpha',\n",
       " 'isascii',\n",
       " 'isdecimal',\n",
       " 'isdigit',\n",
       " 'isidentifier',\n",
       " 'islower',\n",
       " 'isnumeric',\n",
       " 'isprintable',\n",
       " 'isspace',\n",
       " 'istitle',\n",
       " 'isupper',\n",
       " 'join',\n",
       " 'ljust',\n",
       " 'lower',\n",
       " 'lstrip',\n",
       " 'maketrans',\n",
       " 'partition',\n",
       " 'removeprefix',\n",
       " 'removesuffix',\n",
       " 'replace',\n",
       " 'rfind',\n",
       " 'rindex',\n",
       " 'rjust',\n",
       " 'rpartition',\n",
       " 'rsplit',\n",
       " 'rstrip',\n",
       " 'split',\n",
       " 'splitlines',\n",
       " 'startswith',\n",
       " 'strip',\n",
       " 'swapcase',\n",
       " 'title',\n",
       " 'translate',\n",
       " 'upper',\n",
       " 'zfill']"
      ]
     },
     "execution_count": 12,
     "metadata": {},
     "output_type": "execute_result"
    }
   ],
   "source": [
    "## herhangi bir nesne icin dir metodu\n",
    "dir(\"assda\")"
   ]
  },
  {
   "cell_type": "code",
   "execution_count": 13,
   "id": "e797aeee",
   "metadata": {},
   "outputs": [
    {
     "data": {
      "text/plain": [
       "True"
      ]
     },
     "execution_count": 13,
     "metadata": {},
     "output_type": "execute_result"
    }
   ],
   "source": [
    "\"MR\".isupper()"
   ]
  },
  {
   "cell_type": "code",
   "execution_count": 14,
   "id": "00bad96c",
   "metadata": {},
   "outputs": [
    {
     "data": {
      "text/plain": [
       "True"
      ]
     },
     "execution_count": 14,
     "metadata": {},
     "output_type": "execute_result"
    }
   ],
   "source": [
    "\"2400\".isalnum() ## tirnak icindeki ifadenin bir integer olup olmadigininin sorgusunu yapmaktadir."
   ]
  },
  {
   "cell_type": "markdown",
   "id": "3732d28e",
   "metadata": {},
   "source": [
    "## Kullanıcıdan Bilgi Alma"
   ]
  },
  {
   "cell_type": "code",
   "execution_count": 15,
   "id": "448e1e67",
   "metadata": {},
   "outputs": [],
   "source": [
    "mr = 16\n",
    "rm = 32\n",
    "## seklinde atamalar ile islem yapmak iş yükünü ağırlaştıran bir süreçtir\n",
    "## Bunun için anlık olarak yapılan işleme bir değer ataması için input() fonksiyonu kullanılır."
   ]
  },
  {
   "cell_type": "code",
   "execution_count": 17,
   "id": "6975b2f4",
   "metadata": {},
   "outputs": [
    {
     "name": "stdout",
     "output_type": "stream",
     "text": [
      "Mehmet Rızgıç\n"
     ]
    },
    {
     "data": {
      "text/plain": [
       "'Mehmet Rızgıç'"
      ]
     },
     "execution_count": 17,
     "metadata": {},
     "output_type": "execute_result"
    }
   ],
   "source": [
    "input(\"\") ## seklinde bir kullanima sahiptir"
   ]
  },
  {
   "cell_type": "code",
   "execution_count": 18,
   "id": "5a9c8726",
   "metadata": {},
   "outputs": [
    {
     "name": "stdout",
     "output_type": "stream",
     "text": [
      "Mehmet Rızgıç\n"
     ]
    }
   ],
   "source": [
    "string = input(\"\")"
   ]
  },
  {
   "cell_type": "code",
   "execution_count": 19,
   "id": "ae7162ac",
   "metadata": {},
   "outputs": [
    {
     "data": {
      "text/plain": [
       "'Mehmet Rızgıç'"
      ]
     },
     "execution_count": 19,
     "metadata": {},
     "output_type": "execute_result"
    }
   ],
   "source": [
    "string"
   ]
  },
  {
   "cell_type": "code",
   "execution_count": 20,
   "id": "c0b1a8a2",
   "metadata": {},
   "outputs": [
    {
     "data": {
      "text/plain": [
       "str"
      ]
     },
     "execution_count": 20,
     "metadata": {},
     "output_type": "execute_result"
    }
   ],
   "source": [
    "type(string)"
   ]
  },
  {
   "cell_type": "code",
   "execution_count": 21,
   "id": "0d08464d",
   "metadata": {},
   "outputs": [
    {
     "data": {
      "text/plain": [
       "'Mehmet RızgıçMehmet Rızgıç'"
      ]
     },
     "execution_count": 21,
     "metadata": {},
     "output_type": "execute_result"
    }
   ],
   "source": [
    "## Karakter dizilerinde carpma\n",
    "string * 2 ## karakter dizilerine 2 ye katlamaktadir."
   ]
  },
  {
   "cell_type": "code",
   "execution_count": 22,
   "id": "6d1f9388",
   "metadata": {},
   "outputs": [],
   "source": [
    "sayi = 80"
   ]
  },
  {
   "cell_type": "code",
   "execution_count": 24,
   "id": "0f764e67",
   "metadata": {},
   "outputs": [
    {
     "data": {
      "text/plain": [
       "int"
      ]
     },
     "execution_count": 24,
     "metadata": {},
     "output_type": "execute_result"
    }
   ],
   "source": [
    "type(sayi)"
   ]
  },
  {
   "cell_type": "code",
   "execution_count": 25,
   "id": "c9686eab",
   "metadata": {},
   "outputs": [
    {
     "data": {
      "text/plain": [
       "1600"
      ]
     },
     "execution_count": 25,
     "metadata": {},
     "output_type": "execute_result"
    }
   ],
   "source": [
    "sayi * 20"
   ]
  },
  {
   "cell_type": "code",
   "execution_count": 26,
   "id": "4c761f14",
   "metadata": {},
   "outputs": [],
   "source": [
    "sayi2 = 96"
   ]
  },
  {
   "cell_type": "code",
   "execution_count": 27,
   "id": "93d37751",
   "metadata": {},
   "outputs": [
    {
     "data": {
      "text/plain": [
       "7680"
      ]
     },
     "execution_count": 27,
     "metadata": {},
     "output_type": "execute_result"
    }
   ],
   "source": [
    "sayi * sayi2"
   ]
  },
  {
   "cell_type": "code",
   "execution_count": 31,
   "id": "c6342a1c",
   "metadata": {},
   "outputs": [
    {
     "name": "stdout",
     "output_type": "stream",
     "text": [
      "Lutfen Bir Sayi Giriniz: 20\n",
      "Lutfen Bir Sayi Giriniz: 32\n"
     ]
    }
   ],
   "source": [
    "## int() fonksiyonu integer olmayan ve sayisal karakter iceren degiskenleri tam sayi degerine donusturmektedir.\n",
    "sayi1 = int(input(\"Lutfen Bir Sayi Giriniz: \"))\n",
    "sayi2 = int(input(\"Lutfen Bir Sayi Giriniz: \"))\n",
    "### seklinde anlik islem icin sayisal deger atamasi gerceklestirilebilmektedir."
   ]
  },
  {
   "cell_type": "code",
   "execution_count": 33,
   "id": "fb794fd7",
   "metadata": {},
   "outputs": [],
   "source": [
    "def toplama_fonksiyonu():\n",
    "    sayi1 = int(input(\"Lutfen Bir Sayi Giriniz: \"))\n",
    "    sayi2 = int(input(\"Lutfen Bir Sayi Giriniz: \"))\n",
    "    print(sayi1 + sayi2)"
   ]
  },
  {
   "cell_type": "code",
   "execution_count": 34,
   "id": "5f6d5342",
   "metadata": {},
   "outputs": [
    {
     "name": "stdout",
     "output_type": "stream",
     "text": [
      "Lutfen Bir Sayi Giriniz: 40\n",
      "Lutfen Bir Sayi Giriniz: 64\n",
      "104\n"
     ]
    }
   ],
   "source": [
    "toplama_fonksiyonu() ## kodu calisitirilir ve deger atmasi yapilarak otomatik bir toplama islemi yapilabilemktedir."
   ]
  },
  {
   "cell_type": "code",
   "execution_count": null,
   "id": "88aa9402",
   "metadata": {},
   "outputs": [],
   "source": []
  }
 ],
 "metadata": {
  "kernelspec": {
   "display_name": "Python 3 (ipykernel)",
   "language": "python",
   "name": "python3"
  },
  "language_info": {
   "codemirror_mode": {
    "name": "ipython",
    "version": 3
   },
   "file_extension": ".py",
   "mimetype": "text/x-python",
   "name": "python",
   "nbconvert_exporter": "python",
   "pygments_lexer": "ipython3",
   "version": "3.9.7"
  }
 },
 "nbformat": 4,
 "nbformat_minor": 5
}
